{
 "cells": [
  {
   "metadata": {},
   "cell_type": "markdown",
   "source": "# Implementation Paper Journal",
   "id": "6d11fc356d477705"
  },
  {
   "metadata": {},
   "cell_type": "markdown",
   "source": "# Multi-classification Assessment of Bank Personal Credit Risk Based on Multi-source Information Fusion",
   "id": "5dee78dc0f52e184"
  },
  {
   "metadata": {},
   "cell_type": "markdown",
   "source": [
    "This notebook implements the methods described in the paper: \n",
    "\n",
    "\"Multi-classification assessment of bank personal credit risk based on multi-source information fusion\"\n",
    "\n",
    "By Tianhui Wang, Renjing Liu, Guohua Qi\n",
    "\n",
    "Reference: Expert Systems With Applications 191 (2022) 116236"
   ],
   "id": "a4d6242dc3316780"
  },
  {
   "metadata": {},
   "cell_type": "markdown",
   "source": "# Introduction",
   "id": "19e42b3f3013d553"
  },
  {
   "metadata": {},
   "cell_type": "markdown",
   "source": [
    "The paper proposes a new multi-classification assessment model for personal credit risk based on the theory of information fusion (MIFCA) using six machine learning algorithms. The MIFCA model integrates the advantages of multiple classifiers and reduces the interference of uncertain information through Dempster-Shafer (D-S) evidence theory. The key contributions of the paper are:\n",
    "\n",
    "- Constructing a new multi-classification credit assessment model to provide more accurate five-classification credit assessments compared to traditional binary classifications.\n",
    "\n",
    "- Innovatively fusing six different types of classifiers using D-S evidence theory to reduce uncertainty and improve overall accuracy and robustness.\n",
    "\n",
    "- Creating a model with fewer parameters to enhance efficiency and usability, suitable for big data applications\n",
    "\n",
    "- Verifying the assessment performance of MIFCA on real datasets and comparing it with classic statistical and machine learning approaches."
   ],
   "id": "5dea8741a7cbc77c"
  },
  {
   "metadata": {},
   "cell_type": "markdown",
   "source": "# Objective",
   "id": "9b6185192ca348a4"
  },
  {
   "metadata": {},
   "cell_type": "markdown",
   "source": [
    "Our goal is to replicate the MIFCA model as described in the paper using the provided dataset. We will:\n",
    "\n",
    "- Preprocess the data, handling missing values, outliers, and encoding categorical variables.\n",
    "\n",
    "- Train six base classifiers: Decision Tree (DT), Random Forest (RF), Support Vector Machine (SVM), K-Nearest Neighbors (KNN), BP Neural Network (implemented as Multi-Layer Perceptron), and XGBoost.\n",
    "\n",
    "- Implement Dempster-Shafer evidence theory to fuse the outputs of these classifiers.\n",
    "\n",
    "- Evaluate the performance of the fused model and compare it with individual classifiers."
   ],
   "id": "2fa00afffa7eaf7e"
  },
  {
   "metadata": {},
   "cell_type": "markdown",
   "source": "# Implementation",
   "id": "7306e5591c73f45e"
  },
  {
   "metadata": {},
   "cell_type": "markdown",
   "source": "## Import Necessary Libraries",
   "id": "7d1bf6a46ff6d06a"
  },
  {
   "metadata": {
    "collapsed": true,
    "ExecuteTime": {
     "end_time": "2024-10-13T16:11:40.885793Z",
     "start_time": "2024-10-13T16:11:40.879139Z"
    }
   },
   "cell_type": "code",
   "source": [
    "# Import necessary libraries\n",
    "import pandas as pd\n",
    "import numpy as np\n",
    "import matplotlib.pyplot as plt\n",
    "import seaborn as sns\n",
    "\n",
    "# For data preprocessing and model building\n",
    "from sklearn.model_selection import train_test_split\n",
    "from sklearn.preprocessing import LabelEncoder, StandardScaler\n",
    "from sklearn.impute import SimpleImputer\n",
    "\n",
    "# Machine Learning models\n",
    "from sklearn.tree import DecisionTreeClassifier\n",
    "from sklearn.ensemble import RandomForestClassifier\n",
    "from sklearn.svm import SVC\n",
    "from sklearn.neighbors import KNeighborsClassifier\n",
    "from sklearn.neural_network import MLPClassifier\n",
    "import xgboost as xgb\n",
    "\n",
    "# For evaluation\n",
    "from sklearn.metrics import accuracy_score, precision_score, recall_score, f1_score, confusion_matrix, classification_report\n",
    "\n",
    "# For D-S evidence theory\n",
    "from pyds import MassFunction\n",
    "\n",
    "import warnings\n",
    "warnings.filterwarnings('ignore')"
   ],
   "id": "initial_id",
   "outputs": [],
   "execution_count": 29
  },
  {
   "metadata": {},
   "cell_type": "markdown",
   "source": "## 1. Data Loading and Preprocessing",
   "id": "450dfc7b631ecf76"
  },
  {
   "metadata": {},
   "cell_type": "markdown",
   "source": "### 1.1 Load the Dataset",
   "id": "781657a08a2d2dc5"
  },
  {
   "metadata": {},
   "cell_type": "markdown",
   "source": "Assuming your dataset is in the data folder and named `Dataset-Research.xlsx`",
   "id": "87a1f01e5abbd45b"
  },
  {
   "metadata": {
    "ExecuteTime": {
     "end_time": "2024-10-13T16:11:49.737360Z",
     "start_time": "2024-10-13T16:11:44.054883Z"
    }
   },
   "cell_type": "code",
   "source": [
    "# Load the dataset\n",
    "data = pd.read_excel('data/Dataset-Research.xlsx', header=1)\n",
    "\n",
    "# Display the first few rows\n",
    "data.head()"
   ],
   "id": "d23c943dd9b163f6",
   "outputs": [
    {
     "data": {
      "text/plain": [
       "   Customer ID                              Type of Loan Business  \\\n",
       "0            1        Personal Housing Mortgage Loan (First hand)   \n",
       "1            2        Personal Housing Mortgage Loan (First hand)   \n",
       "2            3  Personal Commercial Housing Mortgage Loan (Fir...   \n",
       "3            4                   Housing accumulation fund loan 3   \n",
       "4            5  Personal Commercial Housing Mortgage Loan (Fir...   \n",
       "\n",
       "   Guarantee the Balance  Account Connection Amount  \\\n",
       "0              850000.00                  850000.00   \n",
       "1             2143810.46                 2143810.46   \n",
       "2              892500.00                  892500.00   \n",
       "3                    NaN                        NaN   \n",
       "4              606400.45                  606400.45   \n",
       "\n",
       "   Security Guarantee Amount Five-level Classification  \\\n",
       "0                 85000000.0                        A1   \n",
       "1                171504836.8                        A1   \n",
       "2                 89250000.0                        A1   \n",
       "3                        NaN                        A1   \n",
       "4                 60640045.0                        A1   \n",
       "\n",
       "  Whether Interest is Owed Whether Self-service Loan  \\\n",
       "0                        N                         N   \n",
       "1                        N                         N   \n",
       "2                        N                         N   \n",
       "3                        N                         N   \n",
       "4                        N                         N   \n",
       "\n",
       "              Type of Guarantee  Safety Coefficient  ...  \\\n",
       "0  General Enterprise Guarantee               100.0  ...   \n",
       "1                 Average house                80.0  ...   \n",
       "2  General Enterprise Guarantee               100.0  ...   \n",
       "3  General Enterprise Guarantee                 NaN  ...   \n",
       "4                 Average house               100.0  ...   \n",
       "\n",
       "   Whether Interest is Owed (regulatory standard)           Repayment Type  \\\n",
       "0                                               N  Payment by installments   \n",
       "1                                               N  Payment by installments   \n",
       "2                                               N  Payment by installments   \n",
       "3                                               N  Payment by installments   \n",
       "4                                               N  Payment by installments   \n",
       "\n",
       "  Installment Repayment Method (numerical type)  \\\n",
       "0                                           2.0   \n",
       "1                                           1.0   \n",
       "2                                           2.0   \n",
       "3                                           1.0   \n",
       "4                                           1.0   \n",
       "\n",
       "   Installment Repayment Method (discrete type)  \\\n",
       "0                  Equal repayment of principal   \n",
       "1           Matching the principal and interest   \n",
       "2                  Equal repayment of principal   \n",
       "3           Matching the principal and interest   \n",
       "4           Matching the principal and interest   \n",
       "\n",
       "  Installment Repayment Cycle (numerical type)  \\\n",
       "0                                          M01   \n",
       "1                                          M01   \n",
       "2                                          M01   \n",
       "3                                          M01   \n",
       "4                                          M01   \n",
       "\n",
       "  Repayment Cycle (discrete type)  Number of Houses Month Property Costs  \\\n",
       "0                           Month               1.0               343.84   \n",
       "1                           Month               1.0               342.55   \n",
       "2                           Month               NaN               282.00   \n",
       "3                           Month               NaN                  NaN   \n",
       "4                           Month               NaN                  NaN   \n",
       "\n",
       "  Family Monthly Income Five Categories  \n",
       "0              15000.00          Normal  \n",
       "1              19700.00          Normal  \n",
       "2              39678.00          Normal  \n",
       "3               3490.00          Normal  \n",
       "4              51502.56          Normal  \n",
       "\n",
       "[5 rows x 28 columns]"
      ],
      "text/html": [
       "<div>\n",
       "<style scoped>\n",
       "    .dataframe tbody tr th:only-of-type {\n",
       "        vertical-align: middle;\n",
       "    }\n",
       "\n",
       "    .dataframe tbody tr th {\n",
       "        vertical-align: top;\n",
       "    }\n",
       "\n",
       "    .dataframe thead th {\n",
       "        text-align: right;\n",
       "    }\n",
       "</style>\n",
       "<table border=\"1\" class=\"dataframe\">\n",
       "  <thead>\n",
       "    <tr style=\"text-align: right;\">\n",
       "      <th></th>\n",
       "      <th>Customer ID</th>\n",
       "      <th>Type of Loan Business</th>\n",
       "      <th>Guarantee the Balance</th>\n",
       "      <th>Account Connection Amount</th>\n",
       "      <th>Security Guarantee Amount</th>\n",
       "      <th>Five-level Classification</th>\n",
       "      <th>Whether Interest is Owed</th>\n",
       "      <th>Whether Self-service Loan</th>\n",
       "      <th>Type of Guarantee</th>\n",
       "      <th>Safety Coefficient</th>\n",
       "      <th>...</th>\n",
       "      <th>Whether Interest is Owed (regulatory standard)</th>\n",
       "      <th>Repayment Type</th>\n",
       "      <th>Installment Repayment Method (numerical type)</th>\n",
       "      <th>Installment Repayment Method (discrete type)</th>\n",
       "      <th>Installment Repayment Cycle (numerical type)</th>\n",
       "      <th>Repayment Cycle (discrete type)</th>\n",
       "      <th>Number of Houses</th>\n",
       "      <th>Month Property Costs</th>\n",
       "      <th>Family Monthly Income</th>\n",
       "      <th>Five Categories</th>\n",
       "    </tr>\n",
       "  </thead>\n",
       "  <tbody>\n",
       "    <tr>\n",
       "      <th>0</th>\n",
       "      <td>1</td>\n",
       "      <td>Personal Housing Mortgage Loan (First hand)</td>\n",
       "      <td>850000.00</td>\n",
       "      <td>850000.00</td>\n",
       "      <td>85000000.0</td>\n",
       "      <td>A1</td>\n",
       "      <td>N</td>\n",
       "      <td>N</td>\n",
       "      <td>General Enterprise Guarantee</td>\n",
       "      <td>100.0</td>\n",
       "      <td>...</td>\n",
       "      <td>N</td>\n",
       "      <td>Payment by installments</td>\n",
       "      <td>2.0</td>\n",
       "      <td>Equal repayment of principal</td>\n",
       "      <td>M01</td>\n",
       "      <td>Month</td>\n",
       "      <td>1.0</td>\n",
       "      <td>343.84</td>\n",
       "      <td>15000.00</td>\n",
       "      <td>Normal</td>\n",
       "    </tr>\n",
       "    <tr>\n",
       "      <th>1</th>\n",
       "      <td>2</td>\n",
       "      <td>Personal Housing Mortgage Loan (First hand)</td>\n",
       "      <td>2143810.46</td>\n",
       "      <td>2143810.46</td>\n",
       "      <td>171504836.8</td>\n",
       "      <td>A1</td>\n",
       "      <td>N</td>\n",
       "      <td>N</td>\n",
       "      <td>Average house</td>\n",
       "      <td>80.0</td>\n",
       "      <td>...</td>\n",
       "      <td>N</td>\n",
       "      <td>Payment by installments</td>\n",
       "      <td>1.0</td>\n",
       "      <td>Matching the principal and interest</td>\n",
       "      <td>M01</td>\n",
       "      <td>Month</td>\n",
       "      <td>1.0</td>\n",
       "      <td>342.55</td>\n",
       "      <td>19700.00</td>\n",
       "      <td>Normal</td>\n",
       "    </tr>\n",
       "    <tr>\n",
       "      <th>2</th>\n",
       "      <td>3</td>\n",
       "      <td>Personal Commercial Housing Mortgage Loan (Fir...</td>\n",
       "      <td>892500.00</td>\n",
       "      <td>892500.00</td>\n",
       "      <td>89250000.0</td>\n",
       "      <td>A1</td>\n",
       "      <td>N</td>\n",
       "      <td>N</td>\n",
       "      <td>General Enterprise Guarantee</td>\n",
       "      <td>100.0</td>\n",
       "      <td>...</td>\n",
       "      <td>N</td>\n",
       "      <td>Payment by installments</td>\n",
       "      <td>2.0</td>\n",
       "      <td>Equal repayment of principal</td>\n",
       "      <td>M01</td>\n",
       "      <td>Month</td>\n",
       "      <td>NaN</td>\n",
       "      <td>282.00</td>\n",
       "      <td>39678.00</td>\n",
       "      <td>Normal</td>\n",
       "    </tr>\n",
       "    <tr>\n",
       "      <th>3</th>\n",
       "      <td>4</td>\n",
       "      <td>Housing accumulation fund loan 3</td>\n",
       "      <td>NaN</td>\n",
       "      <td>NaN</td>\n",
       "      <td>NaN</td>\n",
       "      <td>A1</td>\n",
       "      <td>N</td>\n",
       "      <td>N</td>\n",
       "      <td>General Enterprise Guarantee</td>\n",
       "      <td>NaN</td>\n",
       "      <td>...</td>\n",
       "      <td>N</td>\n",
       "      <td>Payment by installments</td>\n",
       "      <td>1.0</td>\n",
       "      <td>Matching the principal and interest</td>\n",
       "      <td>M01</td>\n",
       "      <td>Month</td>\n",
       "      <td>NaN</td>\n",
       "      <td>NaN</td>\n",
       "      <td>3490.00</td>\n",
       "      <td>Normal</td>\n",
       "    </tr>\n",
       "    <tr>\n",
       "      <th>4</th>\n",
       "      <td>5</td>\n",
       "      <td>Personal Commercial Housing Mortgage Loan (Fir...</td>\n",
       "      <td>606400.45</td>\n",
       "      <td>606400.45</td>\n",
       "      <td>60640045.0</td>\n",
       "      <td>A1</td>\n",
       "      <td>N</td>\n",
       "      <td>N</td>\n",
       "      <td>Average house</td>\n",
       "      <td>100.0</td>\n",
       "      <td>...</td>\n",
       "      <td>N</td>\n",
       "      <td>Payment by installments</td>\n",
       "      <td>1.0</td>\n",
       "      <td>Matching the principal and interest</td>\n",
       "      <td>M01</td>\n",
       "      <td>Month</td>\n",
       "      <td>NaN</td>\n",
       "      <td>NaN</td>\n",
       "      <td>51502.56</td>\n",
       "      <td>Normal</td>\n",
       "    </tr>\n",
       "  </tbody>\n",
       "</table>\n",
       "<p>5 rows × 28 columns</p>\n",
       "</div>"
      ]
     },
     "execution_count": 30,
     "metadata": {},
     "output_type": "execute_result"
    }
   ],
   "execution_count": 30
  },
  {
   "metadata": {},
   "cell_type": "markdown",
   "source": "### 1.2 Preliminary Exploration of Data Structures",
   "id": "499f678ef17ff2a4"
  },
  {
   "metadata": {
    "ExecuteTime": {
     "end_time": "2024-10-13T16:11:53.405998Z",
     "start_time": "2024-10-13T16:11:53.401071Z"
    }
   },
   "cell_type": "code",
   "source": [
    "# Check the shape of the dataset\n",
    "print(f\"The dataset contains {data.shape[0]} rows and {data.shape[1]} columns.\")\n",
    "\n",
    "# List all columns\n",
    "print(\"Columns in the dataset:\")\n",
    "print(data.columns.tolist())"
   ],
   "id": "6da9bb4807ae16cf",
   "outputs": [
    {
     "name": "stdout",
     "output_type": "stream",
     "text": [
      "The dataset contains 27522 rows and 28 columns.\n",
      "Columns in the dataset:\n",
      "['Customer ID', 'Type of Loan Business', 'Guarantee the Balance', 'Account Connection Amount', 'Security Guarantee Amount', 'Five-level Classification', 'Whether Interest is Owed', 'Whether Self-service Loan', 'Type of Guarantee', 'Safety Coefficient', 'Collateral Value (yuan)', 'Guarantee Method', 'Date Code', 'Approval Deadline', 'Whether Devalue Account', 'Industry Category', 'Down Payment Amount', 'Whether Personal Business Loan', 'Whether Interest is Owed (regulatory standard)', 'Repayment Type', 'Installment Repayment Method (numerical type)', 'Installment Repayment Method (discrete type)', 'Installment Repayment Cycle (numerical type)', 'Repayment Cycle (discrete type)', 'Number of Houses', 'Month Property Costs', 'Family Monthly Income', 'Five Categories']\n"
     ]
    }
   ],
   "execution_count": 31
  },
  {
   "metadata": {},
   "cell_type": "markdown",
   "source": "### 1.3 Data Cleaning",
   "id": "b64547d18a63b997"
  },
  {
   "metadata": {},
   "cell_type": "markdown",
   "source": "#### 1.3.1 Remove Irrelevant or Redundant Variables",
   "id": "ac4911956a855afa"
  },
  {
   "metadata": {},
   "cell_type": "markdown",
   "source": "Based on the description, we need to drop certain columns that are either irrelevant or redundant.",
   "id": "117e7664debbe8a7"
  },
  {
   "metadata": {
    "ExecuteTime": {
     "end_time": "2024-10-13T16:12:04.611469Z",
     "start_time": "2024-10-13T16:12:04.603837Z"
    }
   },
   "cell_type": "code",
   "source": [
    "# List of columns to drop\n",
    "columns_to_drop = [\n",
    "    'Customer ID',  # Irrelevant\n",
    "    'Account Connection Amount',  # Redundant\n",
    "    'Security Guarantee Amount',  # Redundant\n",
    "    'Whether Interest is Owed',  # Duplicate information\n",
    "    'Whether Self-service Loan',  # Only one value\n",
    "    'Type of Guarantee',  # Duplicate with 'Guarantee Method'\n",
    "    'Date Code',  # Duplicate with 'Approval Deadline'\n",
    "    'Repayment Type',  # Similar to 'Installment Repayment Method'\n",
    "    'Installment Repayment Cycle (numerical type)',  # Only one value\n",
    "    'Repayment Cycle (discrete type)',  # Only one value\n",
    "    'Industry Category',  # Too many missing values\n",
    "    'Whether Personal Business Loan',  # Irrelevant\n",
    "    'Installment Repayment Method (discrete type)'  # Duplicate with 'Installment Repayment Method (numerical type)'\n",
    "]\n",
    "\n",
    "# Drop the columns\n",
    "data.drop(columns=columns_to_drop, inplace=True)\n",
    "\n",
    "# Verify the remaining columns\n",
    "print(\"Remaining columns after dropping:\")\n",
    "print(data.columns.tolist())"
   ],
   "id": "4a91eed9d8e4a2dd",
   "outputs": [
    {
     "name": "stdout",
     "output_type": "stream",
     "text": [
      "Remaining columns after dropping:\n",
      "['Type of Loan Business', 'Guarantee the Balance', 'Five-level Classification', 'Safety Coefficient', 'Collateral Value (yuan)', 'Guarantee Method', 'Approval Deadline', 'Whether Devalue Account', 'Down Payment Amount', 'Whether Interest is Owed (regulatory standard)', 'Installment Repayment Method (numerical type)', 'Number of Houses', 'Month Property Costs', 'Family Monthly Income', 'Five Categories']\n"
     ]
    }
   ],
   "execution_count": 32
  },
  {
   "metadata": {},
   "cell_type": "markdown",
   "source": "#### 1.3.2 Handle Missing Values",
   "id": "91c55221c4b74c"
  },
  {
   "metadata": {
    "ExecuteTime": {
     "end_time": "2024-10-13T16:12:09.136657Z",
     "start_time": "2024-10-13T16:12:09.125109Z"
    }
   },
   "cell_type": "code",
   "source": [
    "# Check for missing values\n",
    "print(\"Missing values in each column:\")\n",
    "print(data.isnull().sum())"
   ],
   "id": "2ae0af8d86210289",
   "outputs": [
    {
     "name": "stdout",
     "output_type": "stream",
     "text": [
      "Missing values in each column:\n",
      "Type of Loan Business                                0\n",
      "Guarantee the Balance                              304\n",
      "Five-level Classification                            0\n",
      "Safety Coefficient                                 304\n",
      "Collateral Value (yuan)                            322\n",
      "Guarantee Method                                   304\n",
      "Approval Deadline                                    0\n",
      "Whether Devalue Account                              0\n",
      "Down Payment Amount                                620\n",
      "Whether Interest is Owed (regulatory standard)       0\n",
      "Installment Repayment Method (numerical type)      757\n",
      "Number of Houses                                  4571\n",
      "Month Property Costs                              1286\n",
      "Family Monthly Income                               20\n",
      "Five Categories                                      0\n",
      "dtype: int64\n"
     ]
    }
   ],
   "execution_count": 33
  },
  {
   "metadata": {},
   "cell_type": "markdown",
   "source": [
    "Impute Missing Values\n",
    "\n",
    "Since dropping all rows with missing values would significantly reduce the dataset size, we'll impute missing values."
   ],
   "id": "36bf628ee05b46dd"
  },
  {
   "metadata": {
    "ExecuteTime": {
     "end_time": "2024-10-13T16:12:15.721384Z",
     "start_time": "2024-10-13T16:12:15.708033Z"
    }
   },
   "cell_type": "code",
   "source": [
    "# Impute Numerical Columns\n",
    "# List of numerical columns with missing values\n",
    "numerical_cols_with_na = ['Guarantee the Balance', 'Safety Coefficient', 'Collateral Value (yuan)', \n",
    "                          'Down Payment Amount', 'Number of Houses', 'Installment Repayment Method (numerical type)',\n",
    "                          'Month Property Costs', 'Family Monthly Income']\n",
    "\n",
    "# Impute numerical columns with mean\n",
    "imputer_num = SimpleImputer(strategy='mean')\n",
    "data[numerical_cols_with_na] = imputer_num.fit_transform(data[numerical_cols_with_na])"
   ],
   "id": "e294a5547973d30d",
   "outputs": [],
   "execution_count": 34
  },
  {
   "metadata": {
    "ExecuteTime": {
     "end_time": "2024-10-13T16:12:29.621940Z",
     "start_time": "2024-10-13T16:12:29.612761Z"
    }
   },
   "cell_type": "code",
   "source": [
    " # Impute Categorical Columns\n",
    " # List of categorical columns with missing values\n",
    "categorical_cols_with_na = ['Guarantee Method']\n",
    "\n",
    "# Impute categorical columns with mode\n",
    "imputer_cat = SimpleImputer(strategy='most_frequent')\n",
    "data[categorical_cols_with_na] = imputer_cat.fit_transform(data[categorical_cols_with_na])"
   ],
   "id": "b39d0ffe9e01fcc8",
   "outputs": [],
   "execution_count": 35
  },
  {
   "metadata": {
    "ExecuteTime": {
     "end_time": "2024-10-13T16:12:51.086443Z",
     "start_time": "2024-10-13T16:12:51.075350Z"
    }
   },
   "cell_type": "code",
   "source": [
    "# Check for missing values after imputation\n",
    "print(\"Missing values after imputation:\")\n",
    "print(data.isnull().sum())"
   ],
   "id": "45dd44a78cfe4426",
   "outputs": [
    {
     "name": "stdout",
     "output_type": "stream",
     "text": [
      "Missing values after imputation:\n",
      "Type of Loan Business                             0\n",
      "Guarantee the Balance                             0\n",
      "Five-level Classification                         0\n",
      "Safety Coefficient                                0\n",
      "Collateral Value (yuan)                           0\n",
      "Guarantee Method                                  0\n",
      "Approval Deadline                                 0\n",
      "Whether Devalue Account                           0\n",
      "Down Payment Amount                               0\n",
      "Whether Interest is Owed (regulatory standard)    0\n",
      "Installment Repayment Method (numerical type)     0\n",
      "Number of Houses                                  0\n",
      "Month Property Costs                              0\n",
      "Family Monthly Income                             0\n",
      "Five Categories                                   0\n",
      "dtype: int64\n"
     ]
    }
   ],
   "execution_count": 36
  },
  {
   "metadata": {},
   "cell_type": "markdown",
   "source": "#### 1.3.3 Handle Outliers",
   "id": "6257f6f995333839"
  },
  {
   "metadata": {
    "ExecuteTime": {
     "end_time": "2024-10-13T16:13:02.370707Z",
     "start_time": "2024-10-13T16:13:02.360162Z"
    }
   },
   "cell_type": "code",
   "source": [
    "# Remove outliers in 'Month Property Costs' less than 20 or greater than 20000\n",
    "data = data[(data['Month Property Costs'] >= 20) & (data['Month Property Costs'] <= 20000)]\n",
    "\n",
    "# Remove outliers in 'Family Monthly Income' less than 1500\n",
    "data = data[data['Family Monthly Income'] >= 1500]\n",
    "\n",
    "# Reset index after dropping rows\n",
    "data.reset_index(drop=True, inplace=True)"
   ],
   "id": "abaa67f77ceb7a88",
   "outputs": [],
   "execution_count": 37
  },
  {
   "metadata": {},
   "cell_type": "markdown",
   "source": "### 1.4 Data Transformation",
   "id": "5f8a5acdb5532212"
  },
  {
   "metadata": {},
   "cell_type": "markdown",
   "source": "We need to encode categorical variables into numerical ones.",
   "id": "d42f4ae4d71f00a3"
  },
  {
   "metadata": {
    "ExecuteTime": {
     "end_time": "2024-10-13T16:13:16.064224Z",
     "start_time": "2024-10-13T16:13:16.034312Z"
    }
   },
   "cell_type": "code",
   "source": [
    "# List of categorical variables to encode\n",
    "categorical_vars = ['Type of Loan Business', 'Guarantee Method', 'Whether Devalue Account',\n",
    "                    'Whether Interest is Owed (regulatory standard)', 'Five-level Classification', 'Five Categories']\n",
    "\n",
    "# Use LabelEncoder for binary variables and OneHotEncoder for variables with more than two categories\n",
    "label_encoder = LabelEncoder()\n",
    "\n",
    "# Binary variables\n",
    "binary_vars = ['Whether Devalue Account', 'Whether Interest is Owed (regulatory standard)']\n",
    "for var in binary_vars:\n",
    "    data[var] = label_encoder.fit_transform(data[var])\n",
    "\n",
    "# For 'Five Categories', which is our target variable, encode it\n",
    "data['Five Categories'] = label_encoder.fit_transform(data['Five Categories'])\n",
    "\n",
    "# One-hot encode 'Type of Loan Business' and 'Guarantee Method'\n",
    "data = pd.get_dummies(data, columns=['Type of Loan Business', 'Guarantee Method'], drop_first=True)\n",
    "\n",
    "# Encode 'Five-level Classification' which seems to be related to risk levels\n",
    "data['Five-level Classification'] = label_encoder.fit_transform(data['Five-level Classification'])\n"
   ],
   "id": "c74199a70e4cf6b",
   "outputs": [],
   "execution_count": 38
  },
  {
   "metadata": {},
   "cell_type": "markdown",
   "source": "### 1.5 Data Splitting",
   "id": "abe551857d3fe60a"
  },
  {
   "metadata": {},
   "cell_type": "markdown",
   "source": "Although the Pearson correlation coefficients are low to medium, we will keep all variables as they may contribute to the model.",
   "id": "94cbddb7c9759c3a"
  },
  {
   "metadata": {
    "ExecuteTime": {
     "end_time": "2024-10-13T16:13:21.220959Z",
     "start_time": "2024-10-13T16:13:21.214379Z"
    }
   },
   "cell_type": "code",
   "source": [
    "# Separate features and target\n",
    "X = data.drop('Five Categories', axis=1)\n",
    "y = data['Five Categories']"
   ],
   "id": "3f47f1bf6ad132b7",
   "outputs": [],
   "execution_count": 39
  },
  {
   "metadata": {},
   "cell_type": "markdown",
   "source": "### 1.6 Processing of Imbalanced Data Sets",
   "id": "9f50184f11f85ea9"
  },
  {
   "metadata": {},
   "cell_type": "markdown",
   "source": "#### 1.6.1 Check for Missing Values in X Before SMOTE",
   "id": "e5ce12833755232e"
  },
  {
   "metadata": {
    "ExecuteTime": {
     "end_time": "2024-10-13T16:13:23.934895Z",
     "start_time": "2024-10-13T16:13:23.928733Z"
    }
   },
   "cell_type": "code",
   "source": [
    "# Verify no missing values in features\n",
    "print(\"Checking for missing values in features:\")\n",
    "print(X.isnull().sum().sum())"
   ],
   "id": "fdbc8adeee4542ed",
   "outputs": [
    {
     "name": "stdout",
     "output_type": "stream",
     "text": [
      "Checking for missing values in features:\n",
      "0\n"
     ]
    }
   ],
   "execution_count": 40
  },
  {
   "metadata": {},
   "cell_type": "markdown",
   "source": "#### 1.6.2 Proceed with SMOTE",
   "id": "6268f51a26c19db4"
  },
  {
   "metadata": {
    "ExecuteTime": {
     "end_time": "2024-10-13T16:13:36.730199Z",
     "start_time": "2024-10-13T16:13:36.527187Z"
    }
   },
   "cell_type": "code",
   "source": [
    "# Split into training and test sets before applying SMOTE\n",
    "X_train, X_test, y_train, y_test = train_test_split(X, y, test_size=0.2, stratify=y, random_state=42)\n",
    "\n",
    "# Check the distribution of target variable before SMOTE\n",
    "print(\"Distribution of target variable before SMOTE:\")\n",
    "print(y_train.value_counts())\n",
    "\n",
    "# Apply SMOTE to the training data\n",
    "from imblearn.over_sampling import SMOTE\n",
    "smote = SMOTE(random_state=42)\n",
    "X_train_resampled, y_train_resampled = smote.fit_resample(X_train, y_train)\n",
    "\n",
    "# Check the distribution after SMOTE\n",
    "print(\"Distribution of target variable after SMOTE:\")\n",
    "print(pd.Series(y_train_resampled).value_counts())"
   ],
   "id": "723b55d9f2a11000",
   "outputs": [
    {
     "name": "stdout",
     "output_type": "stream",
     "text": [
      "Distribution of target variable before SMOTE:\n",
      "Five Categories\n",
      "2    20321\n",
      "3     1150\n",
      "1      252\n",
      "0       87\n",
      "4       82\n",
      "Name: count, dtype: int64\n",
      "Distribution of target variable after SMOTE:\n",
      "Five Categories\n",
      "2    20321\n",
      "3    20321\n",
      "1    20321\n",
      "0    20321\n",
      "4    20321\n",
      "Name: count, dtype: int64\n"
     ]
    }
   ],
   "execution_count": 41
  },
  {
   "metadata": {},
   "cell_type": "markdown",
   "source": "### 1.7 Standardize Numerical Features",
   "id": "728102e153e222a5"
  },
  {
   "metadata": {
    "ExecuteTime": {
     "end_time": "2024-10-13T16:13:49.017690Z",
     "start_time": "2024-10-13T16:13:48.990331Z"
    }
   },
   "cell_type": "code",
   "source": [
    "# Identify numerical columns\n",
    "numerical_cols = X.select_dtypes(include=['int64', 'float64']).columns.tolist()\n",
    "\n",
    "# Remove target variable if present\n",
    "if 'Five Categories' in numerical_cols:\n",
    "    numerical_cols.remove('Five Categories')\n",
    "\n",
    "# Standardize the numerical features\n",
    "scaler = StandardScaler()\n",
    "X_train_resampled[numerical_cols] = scaler.fit_transform(X_train_resampled[numerical_cols])\n",
    "X_test[numerical_cols] = scaler.transform(X_test[numerical_cols])"
   ],
   "id": "71a49f834153a453",
   "outputs": [],
   "execution_count": 42
  },
  {
   "metadata": {},
   "cell_type": "markdown",
   "source": "## 2. Train Base Classifiers",
   "id": "b5c8ca1a336e2cc5"
  },
  {
   "metadata": {},
   "cell_type": "markdown",
   "source": "### 2.1 Decision Tree Classifier",
   "id": "4f3effb59fef7a4e"
  },
  {
   "metadata": {
    "ExecuteTime": {
     "end_time": "2024-10-13T16:13:54.517274Z",
     "start_time": "2024-10-13T16:13:54.098075Z"
    }
   },
   "cell_type": "code",
   "source": [
    "# Train Decision Tree\n",
    "dt_model = DecisionTreeClassifier(random_state=42)\n",
    "dt_model.fit(X_train_resampled, y_train_resampled)\n",
    "\n",
    "# Predict probabilities\n",
    "dt_probs = dt_model.predict_proba(X_test)"
   ],
   "id": "c676b0517adf3f2",
   "outputs": [],
   "execution_count": 43
  },
  {
   "metadata": {},
   "cell_type": "markdown",
   "source": "### 2.2 Random Forest Classifier",
   "id": "23cd6aeba33c8218"
  },
  {
   "metadata": {
    "ExecuteTime": {
     "end_time": "2024-10-13T16:14:05.085225Z",
     "start_time": "2024-10-13T16:13:57.742747Z"
    }
   },
   "cell_type": "code",
   "source": [
    "# Train Random Forest\n",
    "rf_model = RandomForestClassifier(random_state=42)\n",
    "rf_model.fit(X_train_resampled, y_train_resampled)\n",
    "\n",
    "# Predict probabilities\n",
    "rf_probs = rf_model.predict_proba(X_test)"
   ],
   "id": "266080f048a2f3a0",
   "outputs": [],
   "execution_count": 44
  },
  {
   "metadata": {},
   "cell_type": "markdown",
   "source": "### 2.3 Support Vector Machine",
   "id": "9ae950b68d7f6289"
  },
  {
   "metadata": {
    "ExecuteTime": {
     "end_time": "2024-10-13T16:15:17.784044Z",
     "start_time": "2024-10-13T16:14:18.865873Z"
    }
   },
   "cell_type": "code",
   "source": [
    "# Train SVM\n",
    "svm_model = SVC(probability=True, random_state=42)\n",
    "svm_model.fit(X_train_resampled, y_train_resampled)\n",
    "\n",
    "# Predict probabilities\n",
    "svm_probs = svm_model.predict_proba(X_test)"
   ],
   "id": "acf8172f1331661d",
   "outputs": [],
   "execution_count": 45
  },
  {
   "metadata": {},
   "cell_type": "markdown",
   "source": "### 2.4 K-Nearest Neighbors",
   "id": "d9570579200eeaf2"
  },
  {
   "metadata": {
    "ExecuteTime": {
     "end_time": "2024-10-13T16:15:26.707790Z",
     "start_time": "2024-10-13T16:15:25.874687Z"
    }
   },
   "cell_type": "code",
   "source": [
    "# Train KNN\n",
    "knn_model = KNeighborsClassifier()\n",
    "knn_model.fit(X_train_resampled, y_train_resampled)\n",
    "\n",
    "# Predict probabilities\n",
    "knn_probs = knn_model.predict_proba(X_test)"
   ],
   "id": "fad42ebbd3da1529",
   "outputs": [],
   "execution_count": 46
  },
  {
   "metadata": {},
   "cell_type": "markdown",
   "source": "### 2.5 BP Neural Network (MLPClassifier)",
   "id": "1024894f396b3cca"
  },
  {
   "metadata": {
    "ExecuteTime": {
     "end_time": "2024-10-13T16:17:06.318712Z",
     "start_time": "2024-10-13T16:15:28.907695Z"
    }
   },
   "cell_type": "code",
   "source": [
    "# Train BP Neural Network\n",
    "bp_model = MLPClassifier(random_state=42, max_iter=300)\n",
    "bp_model.fit(X_train_resampled, y_train_resampled)\n",
    "\n",
    "# Predict probabilities\n",
    "bp_probs = bp_model.predict_proba(X_test)"
   ],
   "id": "8a5eae7356a5afc",
   "outputs": [],
   "execution_count": 47
  },
  {
   "metadata": {},
   "cell_type": "markdown",
   "source": "### 2.6 XGBoost Classifier",
   "id": "c0bfb7f446e48315"
  },
  {
   "metadata": {
    "ExecuteTime": {
     "end_time": "2024-10-13T16:17:17.006580Z",
     "start_time": "2024-10-13T16:17:13.823706Z"
    }
   },
   "cell_type": "code",
   "source": [
    "# Train XGBoost\n",
    "xgb_model = xgb.XGBClassifier(random_state=42, use_label_encoder=False, eval_metric='mlogloss')\n",
    "xgb_model.fit(X_train_resampled, y_train_resampled)\n",
    "\n",
    "# Predict probabilities\n",
    "xgb_probs = xgb_model.predict_proba(X_test)"
   ],
   "id": "af223ccff53cca82",
   "outputs": [],
   "execution_count": 48
  },
  {
   "metadata": {},
   "cell_type": "markdown",
   "source": "## 3. D-S Evidence Theory Fusion",
   "id": "b8fc5f81120dba3f"
  },
  {
   "metadata": {},
   "cell_type": "markdown",
   "source": "### 3.1 Prepare Belief Assignments",
   "id": "86e74d5d1019b99c"
  },
  {
   "metadata": {
    "ExecuteTime": {
     "end_time": "2024-10-13T16:17:24.979727Z",
     "start_time": "2024-10-13T16:17:24.442903Z"
    }
   },
   "cell_type": "code",
   "source": [
    "# Number of classes\n",
    "classes = dt_model.classes_\n",
    "num_classes = len(classes)\n",
    "\n",
    "# Initialize list to store mass functions for each classifier\n",
    "mass_functions_list = []\n",
    "\n",
    "# List of probabilities from classifiers\n",
    "probs_list = [dt_probs, rf_probs, svm_probs, knn_probs, bp_probs, xgb_probs]\n",
    "\n",
    "# For each classifier, create mass functions for each instance\n",
    "for probs in probs_list:\n",
    "    mass_functions = []\n",
    "    for prob in probs:\n",
    "        mass = {}\n",
    "        for i, cls in enumerate(classes):\n",
    "            mass[str(cls)] = prob[i]\n",
    "        mass_functions.append(MassFunction(mass))\n",
    "    mass_functions_list.append(mass_functions)"
   ],
   "id": "e4dc3e8499d5140d",
   "outputs": [],
   "execution_count": 49
  },
  {
   "metadata": {},
   "cell_type": "markdown",
   "source": "### 3.2 Combine Mass Functions Using Dempster's Rule",
   "id": "8a8fd38630f0fb3e"
  },
  {
   "metadata": {
    "ExecuteTime": {
     "end_time": "2024-10-13T16:17:30.934291Z",
     "start_time": "2024-10-13T16:17:28.895452Z"
    }
   },
   "cell_type": "code",
   "source": [
    "# Install tqdm for progress bar if not already installed\n",
    "!pip install tqdm"
   ],
   "id": "b542400fafba11e9",
   "outputs": [
    {
     "name": "stdout",
     "output_type": "stream",
     "text": [
      "Requirement already satisfied: tqdm in c:\\users\\asus\\miniconda3\\lib\\site-packages (4.65.0)\n",
      "Requirement already satisfied: colorama in c:\\users\\asus\\miniconda3\\lib\\site-packages (from tqdm) (0.4.6)\n"
     ]
    }
   ],
   "execution_count": 50
  },
  {
   "metadata": {
    "ExecuteTime": {
     "end_time": "2024-10-13T16:17:32.967350Z",
     "start_time": "2024-10-13T16:17:32.345591Z"
    }
   },
   "cell_type": "code",
   "source": [
    "from tqdm import tqdm\n",
    "\n",
    "# Initialize list to store fused predictions\n",
    "fused_predictions = []\n",
    "\n",
    "# Iterate over each instance\n",
    "for i in tqdm(range(len(X_test))):\n",
    "    # Get the mass functions for the ith instance from all classifiers\n",
    "    mass_functions = [mass_functions_list[j][i] for j in range(len(mass_functions_list))]\n",
    "    \n",
    "    # Combine the mass functions using Dempster's rule\n",
    "    combined_mass = mass_functions[0]\n",
    "    for mf in mass_functions[1:]:\n",
    "        combined_mass = combined_mass & mf  # Dempster's combination\n",
    "    \n",
    "    # Decide the class with the highest belief\n",
    "    predicted_class_set = combined_mass.max_pl()\n",
    "    predicted_class = int(list(predicted_class_set)[0])\n",
    "    fused_predictions.append(predicted_class)"
   ],
   "id": "f1d8fb70edab9989",
   "outputs": [
    {
     "name": "stderr",
     "output_type": "stream",
     "text": [
      "100%|██████████| 5474/5474 [00:00<00:00, 8898.87it/s]\n"
     ]
    }
   ],
   "execution_count": 51
  },
  {
   "metadata": {},
   "cell_type": "markdown",
   "source": "## 4. Evaluation of the Model's Performance",
   "id": "5bef2776916e031"
  },
  {
   "metadata": {},
   "cell_type": "markdown",
   "source": "### 4.1 Evaluate Base Classifiers",
   "id": "67e28fbc486270cb"
  },
  {
   "metadata": {
    "ExecuteTime": {
     "end_time": "2024-10-13T16:17:46.766508Z",
     "start_time": "2024-10-13T16:17:45.063668Z"
    }
   },
   "cell_type": "code",
   "source": [
    "# Function to evaluate and print metrics\n",
    "def evaluate_model(model_name, y_true, y_pred):\n",
    "    print(f\"Performance of {model_name}:\")\n",
    "    print(\"Accuracy:\", accuracy_score(y_true, y_pred))\n",
    "    print(\"Precision (macro):\", precision_score(y_true, y_pred, average='macro', zero_division=0))\n",
    "    print(\"Recall (macro):\", recall_score(y_true, y_pred, average='macro', zero_division=0))\n",
    "    print(\"F1-score (macro):\", f1_score(y_true, y_pred, average='macro', zero_division=0))\n",
    "    print(\"\\nClassification Report:\")\n",
    "    print(classification_report(y_true, y_pred, zero_division=0))\n",
    "    print(\"-\" * 60)\n",
    "\n",
    "# Predictions from base classifiers\n",
    "dt_pred = dt_model.predict(X_test)\n",
    "rf_pred = rf_model.predict(X_test)\n",
    "svm_pred = svm_model.predict(X_test)\n",
    "knn_pred = knn_model.predict(X_test)\n",
    "bp_pred = bp_model.predict(X_test)\n",
    "xgb_pred = xgb_model.predict(X_test)\n",
    "\n",
    "# Evaluate each model\n",
    "evaluate_model(\"Decision Tree\", y_test, dt_pred)\n",
    "evaluate_model(\"Random Forest\", y_test, rf_pred)\n",
    "evaluate_model(\"SVM\", y_test, svm_pred)\n",
    "evaluate_model(\"KNN\", y_test, knn_pred)\n",
    "evaluate_model(\"BP Neural Network\", y_test, bp_pred)\n",
    "evaluate_model(\"XGBoost\", y_test, xgb_pred)"
   ],
   "id": "5de9ebd4c9d83798",
   "outputs": [
    {
     "name": "stdout",
     "output_type": "stream",
     "text": [
      "Performance of Decision Tree:\n",
      "Accuracy: 0.9985385458531238\n",
      "Precision (macro): 0.9945762711864408\n",
      "Recall (macro): 0.9272727272727274\n",
      "F1-score (macro): 0.9528064146620847\n",
      "\n",
      "Classification Report:\n",
      "              precision    recall  f1-score   support\n",
      "\n",
      "           0       1.00      0.64      0.78        22\n",
      "           1       1.00      1.00      1.00        63\n",
      "           2       1.00      1.00      1.00      5081\n",
      "           3       0.97      1.00      0.99       287\n",
      "           4       1.00      1.00      1.00        21\n",
      "\n",
      "    accuracy                           1.00      5474\n",
      "   macro avg       0.99      0.93      0.95      5474\n",
      "weighted avg       1.00      1.00      1.00      5474\n",
      "\n",
      "------------------------------------------------------------\n",
      "Performance of Random Forest:\n",
      "Accuracy: 0.9983558640847643\n",
      "Precision (macro): 0.9939189189189189\n",
      "Recall (macro): 0.9181818181818182\n",
      "F1-score (macro): 0.9454839500122519\n",
      "\n",
      "Classification Report:\n",
      "              precision    recall  f1-score   support\n",
      "\n",
      "           0       1.00      0.59      0.74        22\n",
      "           1       1.00      1.00      1.00        63\n",
      "           2       1.00      1.00      1.00      5081\n",
      "           3       0.97      1.00      0.98       287\n",
      "           4       1.00      1.00      1.00        21\n",
      "\n",
      "    accuracy                           1.00      5474\n",
      "   macro avg       0.99      0.92      0.95      5474\n",
      "weighted avg       1.00      1.00      1.00      5474\n",
      "\n",
      "------------------------------------------------------------\n",
      "Performance of SVM:\n",
      "Accuracy: 1.0\n",
      "Precision (macro): 1.0\n",
      "Recall (macro): 1.0\n",
      "F1-score (macro): 1.0\n",
      "\n",
      "Classification Report:\n",
      "              precision    recall  f1-score   support\n",
      "\n",
      "           0       1.00      1.00      1.00        22\n",
      "           1       1.00      1.00      1.00        63\n",
      "           2       1.00      1.00      1.00      5081\n",
      "           3       1.00      1.00      1.00       287\n",
      "           4       1.00      1.00      1.00        21\n",
      "\n",
      "    accuracy                           1.00      5474\n",
      "   macro avg       1.00      1.00      1.00      5474\n",
      "weighted avg       1.00      1.00      1.00      5474\n",
      "\n",
      "------------------------------------------------------------\n",
      "Performance of KNN:\n",
      "Accuracy: 0.9961636828644501\n",
      "Precision (macro): 0.9907808057319514\n",
      "Recall (macro): 0.9758102832934463\n",
      "F1-score (macro): 0.9828482519015991\n",
      "\n",
      "Classification Report:\n",
      "              precision    recall  f1-score   support\n",
      "\n",
      "           0       1.00      0.91      0.95        22\n",
      "           1       1.00      1.00      1.00        63\n",
      "           2       1.00      1.00      1.00      5081\n",
      "           3       0.96      0.97      0.96       287\n",
      "           4       1.00      1.00      1.00        21\n",
      "\n",
      "    accuracy                           1.00      5474\n",
      "   macro avg       0.99      0.98      0.98      5474\n",
      "weighted avg       1.00      1.00      1.00      5474\n",
      "\n",
      "------------------------------------------------------------\n",
      "Performance of BP Neural Network:\n",
      "Accuracy: 0.9983558640847643\n",
      "Precision (macro): 0.9642973412913728\n",
      "Recall (macro): 0.9440214549012989\n",
      "F1-score (macro): 0.9533097117835874\n",
      "\n",
      "Classification Report:\n",
      "              precision    recall  f1-score   support\n",
      "\n",
      "           0       0.84      0.73      0.78        22\n",
      "           1       1.00      1.00      1.00        63\n",
      "           2       1.00      1.00      1.00      5081\n",
      "           3       0.98      0.99      0.99       287\n",
      "           4       1.00      1.00      1.00        21\n",
      "\n",
      "    accuracy                           1.00      5474\n",
      "   macro avg       0.96      0.94      0.95      5474\n",
      "weighted avg       1.00      1.00      1.00      5474\n",
      "\n",
      "------------------------------------------------------------\n",
      "Performance of XGBoost:\n",
      "Accuracy: 0.9989039093898429\n",
      "Precision (macro): 0.9959044368600682\n",
      "Recall (macro): 0.9454545454545455\n",
      "F1-score (macro): 0.9663520871143376\n",
      "\n",
      "Classification Report:\n",
      "              precision    recall  f1-score   support\n",
      "\n",
      "           0       1.00      0.73      0.84        22\n",
      "           1       1.00      1.00      1.00        63\n",
      "           2       1.00      1.00      1.00      5081\n",
      "           3       0.98      1.00      0.99       287\n",
      "           4       1.00      1.00      1.00        21\n",
      "\n",
      "    accuracy                           1.00      5474\n",
      "   macro avg       1.00      0.95      0.97      5474\n",
      "weighted avg       1.00      1.00      1.00      5474\n",
      "\n",
      "------------------------------------------------------------\n"
     ]
    }
   ],
   "execution_count": 52
  },
  {
   "metadata": {},
   "cell_type": "markdown",
   "source": "### 4.2 Evaluate the MIFCA Model",
   "id": "d08690f0f8cc65b4"
  },
  {
   "metadata": {
    "ExecuteTime": {
     "end_time": "2024-10-13T16:17:53.029200Z",
     "start_time": "2024-10-13T16:17:53.010312Z"
    }
   },
   "cell_type": "code",
   "source": [
    "# Evaluate the fused model\n",
    "evaluate_model(\"MIFCA Model\", y_test, fused_predictions)"
   ],
   "id": "b224e897f5e7a423",
   "outputs": [
    {
     "name": "stdout",
     "output_type": "stream",
     "text": [
      "Performance of MIFCA Model:\n",
      "Accuracy: 0.9985385458531238\n",
      "Precision (macro): 0.9829089434751083\n",
      "Recall (macro): 0.9440608172315489\n",
      "F1-score (macro): 0.9607296044483278\n",
      "\n",
      "Classification Report:\n",
      "              precision    recall  f1-score   support\n",
      "\n",
      "           0       0.94      0.73      0.82        22\n",
      "           1       0.98      1.00      0.99        63\n",
      "           2       1.00      1.00      1.00      5081\n",
      "           3       0.99      0.99      0.99       287\n",
      "           4       1.00      1.00      1.00        21\n",
      "\n",
      "    accuracy                           1.00      5474\n",
      "   macro avg       0.98      0.94      0.96      5474\n",
      "weighted avg       1.00      1.00      1.00      5474\n",
      "\n",
      "------------------------------------------------------------\n"
     ]
    }
   ],
   "execution_count": 53
  },
  {
   "metadata": {},
   "cell_type": "markdown",
   "source": "### 4.3 Confusion Matrix Heat Maps",
   "id": "564b1dabc7cbd615"
  },
  {
   "metadata": {
    "ExecuteTime": {
     "end_time": "2024-10-13T16:18:13.717200Z",
     "start_time": "2024-10-13T16:18:13.585517Z"
    }
   },
   "cell_type": "code",
   "source": [
    "import itertools\n",
    "\n",
    "# Function to plot confusion matrix\n",
    "def plot_confusion_matrix(cm, classes, title='Confusion matrix'):\n",
    "    plt.figure(figsize=(8,6))\n",
    "    plt.imshow(cm, interpolation='nearest', cmap=plt.cm.Blues)\n",
    "    plt.title(title)\n",
    "    plt.colorbar()\n",
    "    tick_marks = np.arange(len(classes))\n",
    "    class_names = [str(cls) for cls in classes]\n",
    "    plt.xticks(tick_marks, class_names, rotation=45)\n",
    "    plt.yticks(tick_marks, class_names)\n",
    "    \n",
    "    fmt = 'd'\n",
    "    thresh = cm.max() / 2.\n",
    "    for i, j in itertools.product(range(cm.shape[0]), range(cm.shape[1])):\n",
    "        plt.text(j, i, format(cm[i, j], fmt),\n",
    "                 horizontalalignment='center',\n",
    "                 color='white' if cm[i, j] > thresh else 'black')\n",
    "    \n",
    "    plt.ylabel('True label')\n",
    "    plt.xlabel('Predicted label')\n",
    "    plt.tight_layout()\n",
    "    plt.show()\n",
    "\n",
    "# Confusion matrix for MIFCA model\n",
    "cm = confusion_matrix(y_test, fused_predictions)\n",
    "plot_confusion_matrix(cm, classes=classes, title='Confusion Matrix for MIFCA Model')"
   ],
   "id": "1973bc74669589f7",
   "outputs": [
    {
     "data": {
      "text/plain": [
       "<Figure size 800x600 with 2 Axes>"
      ],
      "image/png": "[encoded data removed]"
     },
     "metadata": {},
     "output_type": "display_data"
    }
   ],
   "execution_count": 54
  },
  {
   "metadata": {},
   "cell_type": "markdown",
   "source": "## 5. Conclusion",
   "id": "71d1e3d3c872d848"
  }
 ],
 "metadata": {
  "kernelspec": {
   "display_name": "Python 3",
   "language": "python",
   "name": "python3"
  },
  "language_info": {
   "codemirror_mode": {
    "name": "ipython",
    "version": 2
   },
   "file_extension": ".py",
   "mimetype": "text/x-python",
   "name": "python",
   "nbconvert_exporter": "python",
   "pygments_lexer": "ipython2",
   "version": "2.7.6"
  }
 },
 "nbformat": 4,
 "nbformat_minor": 5
}
