{
 "cells": [
  {
   "metadata": {},
   "cell_type": "markdown",
   "source": "# Implementation Paper Journal",
   "id": "6d11fc356d477705"
  },
  {
   "metadata": {},
   "cell_type": "markdown",
   "source": "# Multi-classification Assessment of Bank Personal Credit Risk Based on Multi-source Information Fusion",
   "id": "8ec35a75c7c90078"
  },
  {
   "metadata": {},
   "cell_type": "markdown",
   "source": [
    "This notebook implements the methods described in the paper: \n",
    "\n",
    "\"Multi-classification assessment of bank personal credit risk based on multi-source information fusion\"\n",
    "\n",
    "By Tianhui Wang, Renjing Liu, Guohua Qi\n",
    "\n",
    "Reference: Expert Systems With Applications 191 (2022) 116236"
   ],
   "id": "a4d6242dc3316780"
  },
  {
   "metadata": {},
   "cell_type": "markdown",
   "source": "# Introduction",
   "id": "19e42b3f3013d553"
  },
  {
   "metadata": {},
   "cell_type": "markdown",
   "source": [
    "The paper proposes a new multi-classification assessment model for personal credit risk based on the theory of information fusion (MIFCA) using six machine learning algorithms. The MIFCA model integrates the advantages of multiple classifiers and reduces the interference of uncertain information through Dempster-Shafer (D-S) evidence theory. The key contributions of the paper are:\n",
    "\n",
    "- Constructing a new multi-classification credit assessment model to provide more accurate five-classification credit assessments compared to traditional binary classifications.\n",
    "\n",
    "- Innovatively fusing six different types of classifiers using D-S evidence theory to reduce uncertainty and improve overall accuracy and robustness.\n",
    "\n",
    "- Creating a model with fewer parameters to enhance efficiency and usability, suitable for big data applications\n",
    "\n",
    "- Verifying the assessment performance of MIFCA on real datasets and comparing it with classic statistical and machine learning approaches."
   ],
   "id": "5dea8741a7cbc77c"
  },
  {
   "metadata": {},
   "cell_type": "markdown",
   "source": "# Objective",
   "id": "9b6185192ca348a4"
  },
  {
   "metadata": {},
   "cell_type": "markdown",
   "source": [
    "Our goal is to replicate the MIFCA model as described in the paper using the provided dataset. We will:\n",
    "\n",
    "- Preprocess the data, handling missing values, outliers, and encoding categorical variables.\n",
    "\n",
    "- Train six base classifiers: Decision Tree (DT), Random Forest (RF), Support Vector Machine (SVM), K-Nearest Neighbors (KNN), BP Neural Network (implemented as Multi-Layer Perceptron), and XGBoost.\n",
    "\n",
    "- Implement Dempster-Shafer evidence theory to fuse the outputs of these classifiers.\n",
    "\n",
    "- Evaluate the performance of the fused model and compare it with individual classifiers."
   ],
   "id": "2fa00afffa7eaf7e"
  },
  {
   "metadata": {},
   "cell_type": "markdown",
   "source": "# Implementation",
   "id": "7306e5591c73f45e"
  },
  {
   "metadata": {},
   "cell_type": "markdown",
   "source": "## Import Necessary Libraries",
   "id": "7d1bf6a46ff6d06a"
  },
  {
   "metadata": {
    "collapsed": true,
    "ExecuteTime": {
     "end_time": "2024-10-14T07:51:38.244718Z",
     "start_time": "2024-10-14T07:51:37.328727Z"
    }
   },
   "cell_type": "code",
   "source": [
    "# Import necessary libraries\n",
    "import pandas as pd\n",
    "import numpy as np\n",
    "import matplotlib.pyplot as plt\n",
    "import seaborn as sns\n",
    "\n",
    "# For data preprocessing and model building\n",
    "from sklearn.model_selection import train_test_split\n",
    "from sklearn.preprocessing import LabelEncoder, StandardScaler\n",
    "from sklearn.impute import SimpleImputer\n",
    "\n",
    "# Machine Learning models\n",
    "from sklearn.tree import DecisionTreeClassifier\n",
    "from sklearn.ensemble import RandomForestClassifier\n",
    "from sklearn.svm import SVC\n",
    "from sklearn.neighbors import KNeighborsClassifier\n",
    "from sklearn.neural_network import MLPClassifier\n",
    "import xgboost as xgb\n",
    "\n",
    "# For evaluation\n",
    "from sklearn.metrics import accuracy_score, precision_score, recall_score, f1_score, confusion_matrix, classification_report\n",
    "\n",
    "# For Progress Bar\n",
    "from tqdm import tqdm\n",
    "\n",
    "import warnings\n",
    "warnings.filterwarnings('ignore')"
   ],
   "id": "initial_id",
   "outputs": [],
   "execution_count": 3
  },
  {
   "metadata": {
    "ExecuteTime": {
     "end_time": "2024-10-14T07:51:38.290715Z",
     "start_time": "2024-10-14T07:51:38.269091Z"
    }
   },
   "cell_type": "code",
   "source": [
    "# Ensure numpy arrays are contiguous\n",
    "import numpy as np\n",
    "\n",
    "# Check versions (optional)\n",
    "import sklearn\n",
    "print(\"Scikit-learn version:\", sklearn.__version__)\n",
    "import numpy\n",
    "print(\"NumPy version:\", numpy.__version__)"
   ],
   "id": "d16fc4998d50eb3f",
   "outputs": [
    {
     "name": "stdout",
     "output_type": "stream",
     "text": [
      "Scikit-learn version: 1.3.0\n",
      "NumPy version: 1.23.5\n"
     ]
    }
   ],
   "execution_count": 4
  },
  {
   "metadata": {},
   "cell_type": "markdown",
   "source": "## 1. Data Loading and Preprocessing",
   "id": "450dfc7b631ecf76"
  },
  {
   "metadata": {},
   "cell_type": "markdown",
   "source": "### 1.1 Load the Dataset",
   "id": "781657a08a2d2dc5"
  },
  {
   "metadata": {},
   "cell_type": "markdown",
   "source": "Assuming your dataset is in the data folder and named `Dataset-Research.xlsx`",
   "id": "87a1f01e5abbd45b"
  },
  {
   "metadata": {
    "ExecuteTime": {
     "end_time": "2024-10-14T07:51:45.675025Z",
     "start_time": "2024-10-14T07:51:38.332137Z"
    }
   },
   "cell_type": "code",
   "source": [
    "# Load the dataset\n",
    "data = pd.read_excel('data/Dataset-Research.xlsx', header=1)\n",
    "\n",
    "# Display the first few rows\n",
    "data.head()"
   ],
   "id": "d23c943dd9b163f6",
   "outputs": [
    {
     "data": {
      "text/plain": [
       "   Customer ID                              Type of Loan Business  \\\n",
       "0            1        Personal Housing Mortgage Loan (First hand)   \n",
       "1            2        Personal Housing Mortgage Loan (First hand)   \n",
       "2            3  Personal Commercial Housing Mortgage Loan (Fir...   \n",
       "3            4                   Housing accumulation fund loan 3   \n",
       "4            5  Personal Commercial Housing Mortgage Loan (Fir...   \n",
       "\n",
       "   Guarantee the Balance  Account Connection Amount  \\\n",
       "0              850000.00                  850000.00   \n",
       "1             2143810.46                 2143810.46   \n",
       "2              892500.00                  892500.00   \n",
       "3                    NaN                        NaN   \n",
       "4              606400.45                  606400.45   \n",
       "\n",
       "   Security Guarantee Amount Five-level Classification  \\\n",
       "0                 85000000.0                        A1   \n",
       "1                171504836.8                        A1   \n",
       "2                 89250000.0                        A1   \n",
       "3                        NaN                        A1   \n",
       "4                 60640045.0                        A1   \n",
       "\n",
       "  Whether Interest is Owed Whether Self-service Loan  \\\n",
       "0                        N                         N   \n",
       "1                        N                         N   \n",
       "2                        N                         N   \n",
       "3                        N                         N   \n",
       "4                        N                         N   \n",
       "\n",
       "              Type of Guarantee  Safety Coefficient  ...  \\\n",
       "0  General Enterprise Guarantee               100.0  ...   \n",
       "1                 Average house                80.0  ...   \n",
       "2  General Enterprise Guarantee               100.0  ...   \n",
       "3  General Enterprise Guarantee                 NaN  ...   \n",
       "4                 Average house               100.0  ...   \n",
       "\n",
       "   Whether Interest is Owed (regulatory standard)           Repayment Type  \\\n",
       "0                                               N  Payment by installments   \n",
       "1                                               N  Payment by installments   \n",
       "2                                               N  Payment by installments   \n",
       "3                                               N  Payment by installments   \n",
       "4                                               N  Payment by installments   \n",
       "\n",
       "  Installment Repayment Method (numerical type)  \\\n",
       "0                                           2.0   \n",
       "1                                           1.0   \n",
       "2                                           2.0   \n",
       "3                                           1.0   \n",
       "4                                           1.0   \n",
       "\n",
       "   Installment Repayment Method (discrete type)  \\\n",
       "0                  Equal repayment of principal   \n",
       "1           Matching the principal and interest   \n",
       "2                  Equal repayment of principal   \n",
       "3           Matching the principal and interest   \n",
       "4           Matching the principal and interest   \n",
       "\n",
       "  Installment Repayment Cycle (numerical type)  \\\n",
       "0                                          M01   \n",
       "1                                          M01   \n",
       "2                                          M01   \n",
       "3                                          M01   \n",
       "4                                          M01   \n",
       "\n",
       "  Repayment Cycle (discrete type)  Number of Houses Month Property Costs  \\\n",
       "0                           Month               1.0               343.84   \n",
       "1                           Month               1.0               342.55   \n",
       "2                           Month               NaN               282.00   \n",
       "3                           Month               NaN                  NaN   \n",
       "4                           Month               NaN                  NaN   \n",
       "\n",
       "  Family Monthly Income Five Categories  \n",
       "0              15000.00          Normal  \n",
       "1              19700.00          Normal  \n",
       "2              39678.00          Normal  \n",
       "3               3490.00          Normal  \n",
       "4              51502.56          Normal  \n",
       "\n",
       "[5 rows x 28 columns]"
      ],
      "text/html": [
       "<div>\n",
       "<style scoped>\n",
       "    .dataframe tbody tr th:only-of-type {\n",
       "        vertical-align: middle;\n",
       "    }\n",
       "\n",
       "    .dataframe tbody tr th {\n",
       "        vertical-align: top;\n",
       "    }\n",
       "\n",
       "    .dataframe thead th {\n",
       "        text-align: right;\n",
       "    }\n",
       "</style>\n",
       "<table border=\"1\" class=\"dataframe\">\n",
       "  <thead>\n",
       "    <tr style=\"text-align: right;\">\n",
       "      <th></th>\n",
       "      <th>Customer ID</th>\n",
       "      <th>Type of Loan Business</th>\n",
       "      <th>Guarantee the Balance</th>\n",
       "      <th>Account Connection Amount</th>\n",
       "      <th>Security Guarantee Amount</th>\n",
       "      <th>Five-level Classification</th>\n",
       "      <th>Whether Interest is Owed</th>\n",
       "      <th>Whether Self-service Loan</th>\n",
       "      <th>Type of Guarantee</th>\n",
       "      <th>Safety Coefficient</th>\n",
       "      <th>...</th>\n",
       "      <th>Whether Interest is Owed (regulatory standard)</th>\n",
       "      <th>Repayment Type</th>\n",
       "      <th>Installment Repayment Method (numerical type)</th>\n",
       "      <th>Installment Repayment Method (discrete type)</th>\n",
       "      <th>Installment Repayment Cycle (numerical type)</th>\n",
       "      <th>Repayment Cycle (discrete type)</th>\n",
       "      <th>Number of Houses</th>\n",
       "      <th>Month Property Costs</th>\n",
       "      <th>Family Monthly Income</th>\n",
       "      <th>Five Categories</th>\n",
       "    </tr>\n",
       "  </thead>\n",
       "  <tbody>\n",
       "    <tr>\n",
       "      <th>0</th>\n",
       "      <td>1</td>\n",
       "      <td>Personal Housing Mortgage Loan (First hand)</td>\n",
       "      <td>850000.00</td>\n",
       "      <td>850000.00</td>\n",
       "      <td>85000000.0</td>\n",
       "      <td>A1</td>\n",
       "      <td>N</td>\n",
       "      <td>N</td>\n",
       "      <td>General Enterprise Guarantee</td>\n",
       "      <td>100.0</td>\n",
       "      <td>...</td>\n",
       "      <td>N</td>\n",
       "      <td>Payment by installments</td>\n",
       "      <td>2.0</td>\n",
       "      <td>Equal repayment of principal</td>\n",
       "      <td>M01</td>\n",
       "      <td>Month</td>\n",
       "      <td>1.0</td>\n",
       "      <td>343.84</td>\n",
       "      <td>15000.00</td>\n",
       "      <td>Normal</td>\n",
       "    </tr>\n",
       "    <tr>\n",
       "      <th>1</th>\n",
       "      <td>2</td>\n",
       "      <td>Personal Housing Mortgage Loan (First hand)</td>\n",
       "      <td>2143810.46</td>\n",
       "      <td>2143810.46</td>\n",
       "      <td>171504836.8</td>\n",
       "      <td>A1</td>\n",
       "      <td>N</td>\n",
       "      <td>N</td>\n",
       "      <td>Average house</td>\n",
       "      <td>80.0</td>\n",
       "      <td>...</td>\n",
       "      <td>N</td>\n",
       "      <td>Payment by installments</td>\n",
       "      <td>1.0</td>\n",
       "      <td>Matching the principal and interest</td>\n",
       "      <td>M01</td>\n",
       "      <td>Month</td>\n",
       "      <td>1.0</td>\n",
       "      <td>342.55</td>\n",
       "      <td>19700.00</td>\n",
       "      <td>Normal</td>\n",
       "    </tr>\n",
       "    <tr>\n",
       "      <th>2</th>\n",
       "      <td>3</td>\n",
       "      <td>Personal Commercial Housing Mortgage Loan (Fir...</td>\n",
       "      <td>892500.00</td>\n",
       "      <td>892500.00</td>\n",
       "      <td>89250000.0</td>\n",
       "      <td>A1</td>\n",
       "      <td>N</td>\n",
       "      <td>N</td>\n",
       "      <td>General Enterprise Guarantee</td>\n",
       "      <td>100.0</td>\n",
       "      <td>...</td>\n",
       "      <td>N</td>\n",
       "      <td>Payment by installments</td>\n",
       "      <td>2.0</td>\n",
       "      <td>Equal repayment of principal</td>\n",
       "      <td>M01</td>\n",
       "      <td>Month</td>\n",
       "      <td>NaN</td>\n",
       "      <td>282.00</td>\n",
       "      <td>39678.00</td>\n",
       "      <td>Normal</td>\n",
       "    </tr>\n",
       "    <tr>\n",
       "      <th>3</th>\n",
       "      <td>4</td>\n",
       "      <td>Housing accumulation fund loan 3</td>\n",
       "      <td>NaN</td>\n",
       "      <td>NaN</td>\n",
       "      <td>NaN</td>\n",
       "      <td>A1</td>\n",
       "      <td>N</td>\n",
       "      <td>N</td>\n",
       "      <td>General Enterprise Guarantee</td>\n",
       "      <td>NaN</td>\n",
       "      <td>...</td>\n",
       "      <td>N</td>\n",
       "      <td>Payment by installments</td>\n",
       "      <td>1.0</td>\n",
       "      <td>Matching the principal and interest</td>\n",
       "      <td>M01</td>\n",
       "      <td>Month</td>\n",
       "      <td>NaN</td>\n",
       "      <td>NaN</td>\n",
       "      <td>3490.00</td>\n",
       "      <td>Normal</td>\n",
       "    </tr>\n",
       "    <tr>\n",
       "      <th>4</th>\n",
       "      <td>5</td>\n",
       "      <td>Personal Commercial Housing Mortgage Loan (Fir...</td>\n",
       "      <td>606400.45</td>\n",
       "      <td>606400.45</td>\n",
       "      <td>60640045.0</td>\n",
       "      <td>A1</td>\n",
       "      <td>N</td>\n",
       "      <td>N</td>\n",
       "      <td>Average house</td>\n",
       "      <td>100.0</td>\n",
       "      <td>...</td>\n",
       "      <td>N</td>\n",
       "      <td>Payment by installments</td>\n",
       "      <td>1.0</td>\n",
       "      <td>Matching the principal and interest</td>\n",
       "      <td>M01</td>\n",
       "      <td>Month</td>\n",
       "      <td>NaN</td>\n",
       "      <td>NaN</td>\n",
       "      <td>51502.56</td>\n",
       "      <td>Normal</td>\n",
       "    </tr>\n",
       "  </tbody>\n",
       "</table>\n",
       "<p>5 rows × 28 columns</p>\n",
       "</div>"
      ]
     },
     "execution_count": 5,
     "metadata": {},
     "output_type": "execute_result"
    }
   ],
   "execution_count": 5
  },
  {
   "metadata": {},
   "cell_type": "markdown",
   "source": "### 1.2 Preliminary Exploration of Data Structures",
   "id": "499f678ef17ff2a4"
  },
  {
   "metadata": {
    "ExecuteTime": {
     "end_time": "2024-10-14T07:51:45.782441Z",
     "start_time": "2024-10-14T07:51:45.770854Z"
    }
   },
   "cell_type": "code",
   "source": [
    "# Check the shape of the dataset\n",
    "print(f\"The dataset contains {data.shape[0]} rows and {data.shape[1]} columns.\")\n",
    "\n",
    "# List all columns\n",
    "print(\"Columns in the dataset:\")\n",
    "print(data.columns.tolist())"
   ],
   "id": "6da9bb4807ae16cf",
   "outputs": [
    {
     "name": "stdout",
     "output_type": "stream",
     "text": [
      "The dataset contains 27522 rows and 28 columns.\n",
      "Columns in the dataset:\n",
      "['Customer ID', 'Type of Loan Business', 'Guarantee the Balance', 'Account Connection Amount', 'Security Guarantee Amount', 'Five-level Classification', 'Whether Interest is Owed', 'Whether Self-service Loan', 'Type of Guarantee', 'Safety Coefficient', 'Collateral Value (yuan)', 'Guarantee Method', 'Date Code', 'Approval Deadline', 'Whether Devalue Account', 'Industry Category', 'Down Payment Amount', 'Whether Personal Business Loan', 'Whether Interest is Owed (regulatory standard)', 'Repayment Type', 'Installment Repayment Method (numerical type)', 'Installment Repayment Method (discrete type)', 'Installment Repayment Cycle (numerical type)', 'Repayment Cycle (discrete type)', 'Number of Houses', 'Month Property Costs', 'Family Monthly Income', 'Five Categories']\n"
     ]
    }
   ],
   "execution_count": 6
  },
  {
   "metadata": {},
   "cell_type": "markdown",
   "source": "### 1.3 Data Cleaning",
   "id": "b64547d18a63b997"
  },
  {
   "metadata": {},
   "cell_type": "markdown",
   "source": "#### 1.3.1 Remove Irrelevant or Redundant Variables",
   "id": "ac4911956a855afa"
  },
  {
   "metadata": {},
   "cell_type": "markdown",
   "source": "Based on the description, we need to drop certain columns that are either irrelevant or redundant.",
   "id": "117e7664debbe8a7"
  },
  {
   "metadata": {
    "ExecuteTime": {
     "end_time": "2024-10-14T07:51:46.045045Z",
     "start_time": "2024-10-14T07:51:46.019913Z"
    }
   },
   "cell_type": "code",
   "source": [
    "# List of columns to drop\n",
    "columns_to_drop = [\n",
    "    'Customer ID',  # Irrelevant\n",
    "    'Account Connection Amount',  # Redundant\n",
    "    'Security Guarantee Amount',  # Redundant\n",
    "    'Whether Interest is Owed',  # Duplicate information\n",
    "    'Whether Self-service Loan',  # Only one value\n",
    "    'Type of Guarantee',  # Duplicate with 'Guarantee Method'\n",
    "    'Date Code',  # Duplicate with 'Approval Deadline'\n",
    "    'Repayment Type',  # Similar to 'Installment Repayment Method'\n",
    "    'Installment Repayment Cycle (numerical type)',  # Only one value\n",
    "    'Repayment Cycle (discrete type)',  # Only one value\n",
    "    'Industry Category',  # Too many missing values\n",
    "    'Whether Personal Business Loan',  # Irrelevant\n",
    "    'Installment Repayment Method (discrete type)'  # Duplicate with 'Installment Repayment Method (numerical type)'\n",
    "]\n",
    "\n",
    "# Drop the columns\n",
    "data.drop(columns=columns_to_drop, inplace=True)\n",
    "\n",
    "# Verify the remaining columns\n",
    "print(\"Remaining columns after dropping:\")\n",
    "print(data.columns.tolist())"
   ],
   "id": "4a91eed9d8e4a2dd",
   "outputs": [
    {
     "name": "stdout",
     "output_type": "stream",
     "text": [
      "Remaining columns after dropping:\n",
      "['Type of Loan Business', 'Guarantee the Balance', 'Five-level Classification', 'Safety Coefficient', 'Collateral Value (yuan)', 'Guarantee Method', 'Approval Deadline', 'Whether Devalue Account', 'Down Payment Amount', 'Whether Interest is Owed (regulatory standard)', 'Installment Repayment Method (numerical type)', 'Number of Houses', 'Month Property Costs', 'Family Monthly Income', 'Five Categories']\n"
     ]
    }
   ],
   "execution_count": 7
  },
  {
   "metadata": {},
   "cell_type": "markdown",
   "source": "#### 1.3.2 Handle Missing Values",
   "id": "91c55221c4b74c"
  },
  {
   "metadata": {
    "ExecuteTime": {
     "end_time": "2024-10-14T07:51:46.233237Z",
     "start_time": "2024-10-14T07:51:46.206132Z"
    }
   },
   "cell_type": "code",
   "source": [
    "# Check for missing values\n",
    "print(\"Missing values in each column:\")\n",
    "print(data.isnull().sum())"
   ],
   "id": "2ae0af8d86210289",
   "outputs": [
    {
     "name": "stdout",
     "output_type": "stream",
     "text": [
      "Missing values in each column:\n",
      "Type of Loan Business                                0\n",
      "Guarantee the Balance                              304\n",
      "Five-level Classification                            0\n",
      "Safety Coefficient                                 304\n",
      "Collateral Value (yuan)                            322\n",
      "Guarantee Method                                   304\n",
      "Approval Deadline                                    0\n",
      "Whether Devalue Account                              0\n",
      "Down Payment Amount                                620\n",
      "Whether Interest is Owed (regulatory standard)       0\n",
      "Installment Repayment Method (numerical type)      757\n",
      "Number of Houses                                  4571\n",
      "Month Property Costs                              1286\n",
      "Family Monthly Income                               20\n",
      "Five Categories                                      0\n",
      "dtype: int64\n"
     ]
    }
   ],
   "execution_count": 8
  },
  {
   "metadata": {},
   "cell_type": "markdown",
   "source": [
    "Impute Missing Values\n",
    "\n",
    "Since dropping all rows with missing values would significantly reduce the dataset size, we'll impute missing values."
   ],
   "id": "36bf628ee05b46dd"
  },
  {
   "metadata": {
    "ExecuteTime": {
     "end_time": "2024-10-14T07:51:46.464771Z",
     "start_time": "2024-10-14T07:51:46.430502Z"
    }
   },
   "cell_type": "code",
   "source": [
    "# Impute Numerical Columns\n",
    "# List of numerical columns with missing values\n",
    "numerical_cols_with_na = ['Guarantee the Balance', 'Safety Coefficient', 'Collateral Value (yuan)', \n",
    "                          'Down Payment Amount', 'Number of Houses', 'Installment Repayment Method (numerical type)',\n",
    "                          'Month Property Costs', 'Family Monthly Income']\n",
    "\n",
    "# Impute numerical columns with mean\n",
    "imputer_num = SimpleImputer(strategy='mean')\n",
    "data[numerical_cols_with_na] = imputer_num.fit_transform(data[numerical_cols_with_na])"
   ],
   "id": "e294a5547973d30d",
   "outputs": [],
   "execution_count": 9
  },
  {
   "metadata": {
    "ExecuteTime": {
     "end_time": "2024-10-14T07:51:46.588109Z",
     "start_time": "2024-10-14T07:51:46.559957Z"
    }
   },
   "cell_type": "code",
   "source": [
    " # Impute Categorical Columns\n",
    " # List of categorical columns with missing values\n",
    "categorical_cols_with_na = ['Guarantee Method']\n",
    "\n",
    "# Impute categorical columns with mode\n",
    "imputer_cat = SimpleImputer(strategy='most_frequent')\n",
    "data[categorical_cols_with_na] = imputer_cat.fit_transform(data[categorical_cols_with_na])"
   ],
   "id": "b39d0ffe9e01fcc8",
   "outputs": [],
   "execution_count": 10
  },
  {
   "metadata": {
    "ExecuteTime": {
     "end_time": "2024-10-14T07:51:46.618106Z",
     "start_time": "2024-10-14T07:51:46.598447Z"
    }
   },
   "cell_type": "code",
   "source": [
    "# Check for missing values after imputation\n",
    "print(\"Missing values after imputation:\")\n",
    "print(data.isnull().sum())"
   ],
   "id": "45dd44a78cfe4426",
   "outputs": [
    {
     "name": "stdout",
     "output_type": "stream",
     "text": [
      "Missing values after imputation:\n",
      "Type of Loan Business                             0\n",
      "Guarantee the Balance                             0\n",
      "Five-level Classification                         0\n",
      "Safety Coefficient                                0\n",
      "Collateral Value (yuan)                           0\n",
      "Guarantee Method                                  0\n",
      "Approval Deadline                                 0\n",
      "Whether Devalue Account                           0\n",
      "Down Payment Amount                               0\n",
      "Whether Interest is Owed (regulatory standard)    0\n",
      "Installment Repayment Method (numerical type)     0\n",
      "Number of Houses                                  0\n",
      "Month Property Costs                              0\n",
      "Family Monthly Income                             0\n",
      "Five Categories                                   0\n",
      "dtype: int64\n"
     ]
    }
   ],
   "execution_count": 11
  },
  {
   "metadata": {},
   "cell_type": "markdown",
   "source": "#### 1.3.3 Handle Outliers",
   "id": "6257f6f995333839"
  },
  {
   "metadata": {
    "ExecuteTime": {
     "end_time": "2024-10-14T07:51:46.680712Z",
     "start_time": "2024-10-14T07:51:46.659713Z"
    }
   },
   "cell_type": "code",
   "source": [
    "# Remove outliers in 'Month Property Costs' less than 20 or greater than 20000\n",
    "data = data[(data['Month Property Costs'] >= 20) & (data['Month Property Costs'] <= 20000)]\n",
    "\n",
    "# Remove outliers in 'Family Monthly Income' less than 1500\n",
    "data = data[data['Family Monthly Income'] >= 1500]\n",
    "\n",
    "# Reset index after dropping rows\n",
    "data.reset_index(drop=True, inplace=True)"
   ],
   "id": "abaa67f77ceb7a88",
   "outputs": [],
   "execution_count": 12
  },
  {
   "metadata": {},
   "cell_type": "markdown",
   "source": "### 1.4 Data Transformation",
   "id": "5f8a5acdb5532212"
  },
  {
   "metadata": {},
   "cell_type": "markdown",
   "source": "We need to encode categorical variables into numerical ones.",
   "id": "d42f4ae4d71f00a3"
  },
  {
   "metadata": {
    "ExecuteTime": {
     "end_time": "2024-10-14T07:51:46.804264Z",
     "start_time": "2024-10-14T07:51:46.745753Z"
    }
   },
   "cell_type": "code",
   "source": [
    "# List of categorical variables to encode\n",
    "categorical_vars = ['Type of Loan Business', 'Guarantee Method', 'Whether Devalue Account',\n",
    "                    'Whether Interest is Owed (regulatory standard)', 'Five-level Classification', 'Five Categories']\n",
    "\n",
    "# Use LabelEncoder for binary variables and OneHotEncoder for variables with more than two categories\n",
    "label_encoder = LabelEncoder()\n",
    "\n",
    "# Binary variables\n",
    "binary_vars = ['Whether Devalue Account', 'Whether Interest is Owed (regulatory standard)']\n",
    "for var in binary_vars:\n",
    "    data[var] = label_encoder.fit_transform(data[var])\n",
    "\n",
    "# For 'Five Categories', which is our target variable, encode it\n",
    "data['Five Categories'] = label_encoder.fit_transform(data['Five Categories'])\n",
    "\n",
    "# One-hot encode 'Type of Loan Business' and 'Guarantee Method'\n",
    "data = pd.get_dummies(data, columns=['Type of Loan Business', 'Guarantee Method'], drop_first=True)\n",
    "\n",
    "# Drop 'Five-level Classification' as it is not needed\n",
    "data.drop('Five-level Classification', axis=1, inplace=True)\n"
   ],
   "id": "c74199a70e4cf6b",
   "outputs": [],
   "execution_count": 13
  },
  {
   "metadata": {},
   "cell_type": "markdown",
   "source": "### 1.5 Data Splitting",
   "id": "abe551857d3fe60a"
  },
  {
   "metadata": {},
   "cell_type": "markdown",
   "source": "Although the Pearson correlation coefficients are low to medium, we will keep all variables as they may contribute to the model.",
   "id": "94cbddb7c9759c3a"
  },
  {
   "metadata": {
    "ExecuteTime": {
     "end_time": "2024-10-14T07:51:46.835182Z",
     "start_time": "2024-10-14T07:51:46.813056Z"
    }
   },
   "cell_type": "code",
   "source": [
    "# Separate features and target\n",
    "X = data.drop('Five Categories', axis=1)\n",
    "y = data['Five Categories']"
   ],
   "id": "3f47f1bf6ad132b7",
   "outputs": [],
   "execution_count": 14
  },
  {
   "metadata": {},
   "cell_type": "markdown",
   "source": "### 1.6 Processing of Imbalanced Data Sets",
   "id": "9f50184f11f85ea9"
  },
  {
   "metadata": {},
   "cell_type": "markdown",
   "source": "#### 1.6.1 Check for Missing Values in X Before SMOTE",
   "id": "e5ce12833755232e"
  },
  {
   "metadata": {
    "ExecuteTime": {
     "end_time": "2024-10-14T07:51:46.911905Z",
     "start_time": "2024-10-14T07:51:46.885872Z"
    }
   },
   "cell_type": "code",
   "source": [
    "# Verify no missing values in features\n",
    "print(\"Checking for missing values in features:\")\n",
    "print(X.isnull().sum().sum())"
   ],
   "id": "fdbc8adeee4542ed",
   "outputs": [
    {
     "name": "stdout",
     "output_type": "stream",
     "text": [
      "Checking for missing values in features:\n",
      "0\n"
     ]
    }
   ],
   "execution_count": 15
  },
  {
   "metadata": {},
   "cell_type": "markdown",
   "source": "#### 1.6.2 Proceed with SMOTE",
   "id": "6268f51a26c19db4"
  },
  {
   "metadata": {
    "ExecuteTime": {
     "end_time": "2024-10-14T07:51:47.843685Z",
     "start_time": "2024-10-14T07:51:46.961753Z"
    }
   },
   "cell_type": "code",
   "source": [
    "# Split into training and test sets before applying SMOTE\n",
    "X_train, X_test, y_train, y_test = train_test_split(X, y, test_size=0.2, stratify=y, random_state=42)\n",
    "\n",
    "# Check the distribution of target variable before SMOTE\n",
    "print(\"Distribution of target variable before SMOTE:\")\n",
    "print(y_train.value_counts())\n",
    "\n",
    "# Apply SMOTE to the training data\n",
    "from imblearn.over_sampling import SMOTE\n",
    "smote = SMOTE(random_state=42)\n",
    "X_train_resampled, y_train_resampled = smote.fit_resample(X_train, y_train)\n",
    "\n",
    "# Check the distribution after SMOTE\n",
    "print(\"Distribution of target variable after SMOTE:\")\n",
    "print(pd.Series(y_train_resampled).value_counts())"
   ],
   "id": "723b55d9f2a11000",
   "outputs": [
    {
     "name": "stdout",
     "output_type": "stream",
     "text": [
      "Distribution of target variable before SMOTE:\n",
      "Five Categories\n",
      "2    20321\n",
      "3     1150\n",
      "1      252\n",
      "0       87\n",
      "4       82\n",
      "Name: count, dtype: int64\n",
      "Distribution of target variable after SMOTE:\n",
      "Five Categories\n",
      "2    20321\n",
      "3    20321\n",
      "1    20321\n",
      "0    20321\n",
      "4    20321\n",
      "Name: count, dtype: int64\n"
     ]
    }
   ],
   "execution_count": 16
  },
  {
   "metadata": {},
   "cell_type": "markdown",
   "source": "### 1.6.3 Visualize Class Distribution Before and After SMOTE",
   "id": "12496c8a0c0cfdef"
  },
  {
   "metadata": {
    "ExecuteTime": {
     "end_time": "2024-10-14T07:52:05.518283Z",
     "start_time": "2024-10-14T07:51:47.921996Z"
    }
   },
   "cell_type": "code",
   "source": [
    "# Sample size (adjust this value as needed)\n",
    "sample_size = 1000\n",
    "\n",
    "# Before SMOTE\n",
    "y_train_sample = y_train.sample(n=sample_size, random_state=42)\n",
    "plt.figure(figsize=(8,6))\n",
    "sns.countplot(y_train_sample)\n",
    "plt.title('Class Distribution Before SMOTE (Sample)')\n",
    "plt.xlabel('Class')\n",
    "plt.ylabel('Count')\n",
    "plt.show()\n",
    "\n",
    "# After SMOTE\n",
    "y_train_resampled_sample = pd.Series(y_train_resampled).sample(n=sample_size, random_state=42)\n",
    "plt.figure(figsize=(8,6))\n",
    "sns.countplot(y_train_resampled_sample)\n",
    "plt.title('Class Distribution After SMOTE (Sample)')\n",
    "plt.xlabel('Class')\n",
    "plt.ylabel('Count')\n",
    "plt.show()\n",
    "\n",
    "# Print class distributions\n",
    "print(\"Class distribution before SMOTE:\")\n",
    "print(y_train.value_counts(normalize=True))\n",
    "print(\"\\nClass distribution after SMOTE:\")\n",
    "print(pd.Series(y_train_resampled).value_counts(normalize=True))"
   ],
   "id": "eb6adaa1af0b364c",
   "outputs": [
    {
     "data": {
      "text/plain": [
       "<Figure size 800x600 with 1 Axes>"
      ],
      "image/png": "[encoded data removed]"
     },
     "metadata": {},
     "output_type": "display_data"
    },
    {
     "data": {
      "text/plain": [
       "<Figure size 800x600 with 1 Axes>"
      ],
      "image/png": "[encoded data removed]"
     },
     "metadata": {},
     "output_type": "display_data"
    },
    {
     "name": "stdout",
     "output_type": "stream",
     "text": [
      "Class distribution before SMOTE:\n",
      "Five Categories\n",
      "2    0.928239\n",
      "3    0.052531\n",
      "1    0.011511\n",
      "0    0.003974\n",
      "4    0.003746\n",
      "Name: proportion, dtype: float64\n",
      "\n",
      "Class distribution after SMOTE:\n",
      "Five Categories\n",
      "2    0.2\n",
      "3    0.2\n",
      "1    0.2\n",
      "0    0.2\n",
      "4    0.2\n",
      "Name: proportion, dtype: float64\n"
     ]
    }
   ],
   "execution_count": 17
  },
  {
   "metadata": {},
   "cell_type": "markdown",
   "source": "### 1.7 Standardize Numerical Features",
   "id": "728102e153e222a5"
  },
  {
   "metadata": {
    "ExecuteTime": {
     "end_time": "2024-10-14T07:52:05.815268Z",
     "start_time": "2024-10-14T07:52:05.632084Z"
    }
   },
   "cell_type": "code",
   "source": [
    "# Identify numerical columns\n",
    "numerical_cols = X.select_dtypes(include=['int64', 'float64']).columns.tolist()\n",
    "\n",
    "# Standardize the numerical features\n",
    "scaler = StandardScaler()\n",
    "X_train_resampled[numerical_cols] = scaler.fit_transform(X_train_resampled[numerical_cols])\n",
    "X_test[numerical_cols] = scaler.transform(X_test[numerical_cols])\n",
    "\n",
    "# Ensure data is in numpy array and data types are correct\n",
    "X_train_resampled = np.ascontiguousarray(X_train_resampled)\n",
    "X_test = np.ascontiguousarray(X_test)"
   ],
   "id": "71a49f834153a453",
   "outputs": [],
   "execution_count": 18
  },
  {
   "metadata": {},
   "cell_type": "markdown",
   "source": "## 2. Train Base Classifiers",
   "id": "b5c8ca1a336e2cc5"
  },
  {
   "metadata": {},
   "cell_type": "markdown",
   "source": "### 2.1 Decision Tree Classifier",
   "id": "4f3effb59fef7a4e"
  },
  {
   "metadata": {
    "ExecuteTime": {
     "end_time": "2024-10-14T07:52:07.946277Z",
     "start_time": "2024-10-14T07:52:05.896676Z"
    }
   },
   "cell_type": "code",
   "source": [
    "# Train Decision Tree\n",
    "dt_model = DecisionTreeClassifier(random_state=42)\n",
    "dt_model.fit(X_train_resampled, y_train_resampled)\n",
    "\n",
    "# Predict probabilities\n",
    "dt_probs = dt_model.predict_proba(X_test)"
   ],
   "id": "c676b0517adf3f2",
   "outputs": [],
   "execution_count": 19
  },
  {
   "metadata": {},
   "cell_type": "markdown",
   "source": "### 2.2 Random Forest Classifier",
   "id": "23cd6aeba33c8218"
  },
  {
   "metadata": {
    "ExecuteTime": {
     "end_time": "2024-10-14T07:52:35.504266Z",
     "start_time": "2024-10-14T07:52:08.075271Z"
    }
   },
   "cell_type": "code",
   "source": [
    "# Train Random Forest\n",
    "rf_model = RandomForestClassifier(random_state=42)\n",
    "rf_model.fit(X_train_resampled, y_train_resampled)\n",
    "\n",
    "# Predict probabilities\n",
    "rf_probs = rf_model.predict_proba(X_test)"
   ],
   "id": "266080f048a2f3a0",
   "outputs": [],
   "execution_count": 20
  },
  {
   "metadata": {},
   "cell_type": "markdown",
   "source": "### 2.3 Support Vector Machine",
   "id": "9ae950b68d7f6289"
  },
  {
   "metadata": {
    "ExecuteTime": {
     "end_time": "2024-10-14T08:14:17.055940Z",
     "start_time": "2024-10-14T07:52:35.512542Z"
    }
   },
   "cell_type": "code",
   "source": [
    "# Train SVM\n",
    "svm_model = SVC(probability=True, random_state=42)\n",
    "svm_model.fit(X_train_resampled, y_train_resampled)\n",
    "\n",
    "# Predict probabilities\n",
    "svm_probs = svm_model.predict_proba(X_test)"
   ],
   "id": "acf8172f1331661d",
   "outputs": [],
   "execution_count": 21
  },
  {
   "metadata": {},
   "cell_type": "markdown",
   "source": "### 2.4 K-Nearest Neighbors",
   "id": "d9570579200eeaf2"
  },
  {
   "metadata": {
    "ExecuteTime": {
     "end_time": "2024-10-14T08:14:18.018518Z",
     "start_time": "2024-10-14T08:14:17.119163Z"
    }
   },
   "cell_type": "code",
   "source": [
    "knn_model = KNeighborsClassifier()\n",
    "knn_model.fit(X_train_resampled, y_train_resampled)\n",
    "\n",
    "X_test_array = np.ascontiguousarray(X_test)\n",
    "\n",
    "# Predict using KNN\n",
    "knn_pred = knn_model.predict(X_test_array)\n",
    "knn_probs = knn_model.predict_proba(X_test_array)"
   ],
   "id": "fad42ebbd3da1529",
   "outputs": [],
   "execution_count": 22
  },
  {
   "metadata": {},
   "cell_type": "markdown",
   "source": "### 2.5 BP Neural Network (MLPClassifier)",
   "id": "1024894f396b3cca"
  },
  {
   "metadata": {
    "ExecuteTime": {
     "end_time": "2024-10-14T08:22:19.994760Z",
     "start_time": "2024-10-14T08:14:18.084125Z"
    }
   },
   "cell_type": "code",
   "source": [
    "# Train BP Neural Network\n",
    "bp_model = MLPClassifier(random_state=42, max_iter=300)\n",
    "bp_model.fit(X_train_resampled, y_train_resampled)\n",
    "\n",
    "# Predict probabilities\n",
    "bp_probs = bp_model.predict_proba(X_test)"
   ],
   "id": "8a5eae7356a5afc",
   "outputs": [],
   "execution_count": 23
  },
  {
   "metadata": {},
   "cell_type": "markdown",
   "source": "### 2.6 XGBoost Classifier",
   "id": "c0bfb7f446e48315"
  },
  {
   "metadata": {
    "ExecuteTime": {
     "end_time": "2024-10-14T08:22:24.083023Z",
     "start_time": "2024-10-14T08:22:20.121868Z"
    }
   },
   "cell_type": "code",
   "source": [
    "# Train XGBoost\n",
    "xgb_model = xgb.XGBClassifier(random_state=42, use_label_encoder=False, eval_metric='mlogloss')\n",
    "xgb_model.fit(X_train_resampled, y_train_resampled)\n",
    "\n",
    "# Predict probabilities\n",
    "xgb_probs = xgb_model.predict_proba(X_test)"
   ],
   "id": "af223ccff53cca82",
   "outputs": [],
   "execution_count": 24
  },
  {
   "metadata": {},
   "cell_type": "markdown",
   "source": "## 3. D-S Evidence Theory Fusion",
   "id": "b8fc5f81120dba3f"
  },
  {
   "metadata": {},
   "cell_type": "markdown",
   "source": "### 3.1 Defining the MassFunction Class",
   "id": "2c916d601b97851e"
  },
  {
   "metadata": {
    "ExecuteTime": {
     "end_time": "2024-10-14T08:22:24.113732Z",
     "start_time": "2024-10-14T08:22:24.088041Z"
    }
   },
   "cell_type": "code",
   "source": [
    "# Define the MassFunction class\n",
    "class MassFunction:\n",
    "    def __init__(self, mass_dict):\n",
    "        self.mass = {}\n",
    "        total_mass = 0\n",
    "        for hypothesis, mass_value in mass_dict.items():\n",
    "            hypothesis = frozenset([hypothesis])\n",
    "            self.mass[hypothesis] = mass_value\n",
    "            total_mass += mass_value\n",
    "        if total_mass != 1:\n",
    "            for hypothesis in self.mass:\n",
    "                self.mass[hypothesis] /= total_mass\n",
    "\n",
    "    def combine_conjunctive(self, other):\n",
    "        new_mass = {}\n",
    "        conflict_mass = 0\n",
    "        for h1, m1 in self.mass.items():\n",
    "            for h2, m2 in other.mass.items():\n",
    "                intersection = h1 & h2\n",
    "                if intersection:\n",
    "                    new_mass[intersection] = new_mass.get(intersection, 0) + m1 * m2\n",
    "                else:\n",
    "                    conflict_mass += m1 * m2\n",
    "        total_mass = sum(new_mass.values())\n",
    "        if total_mass == 0:\n",
    "            return MassFunction({frozenset(): 1})\n",
    "        else:\n",
    "            for h in new_mass:\n",
    "                new_mass[h] /= (1 - conflict_mass)\n",
    "            return MassFunction(new_mass)\n",
    "    \n",
    "    def max_belief(self):\n",
    "        max_mass = 0\n",
    "        best_hypothesis = None\n",
    "        for h, m in self.mass.items():\n",
    "            if m > max_mass:\n",
    "                max_mass = m\n",
    "                best_hypothesis = h\n",
    "        return best_hypothesis"
   ],
   "id": "c76f5e2cf93b3fc3",
   "outputs": [],
   "execution_count": 25
  },
  {
   "metadata": {},
   "cell_type": "markdown",
   "source": "### 3.2 Prepare Belief Assignments",
   "id": "86e74d5d1019b99c"
  },
  {
   "metadata": {
    "ExecuteTime": {
     "end_time": "2024-10-14T08:22:24.812894Z",
     "start_time": "2024-10-14T08:22:24.177527Z"
    }
   },
   "cell_type": "code",
   "source": [
    "# Number of classes\n",
    "classes = list(dt_model.classes_)  # Convert numpy array to list\n",
    "classes = [int(cls) for cls in classes]  # Ensure classes are integers\n",
    "num_classes = len(classes)\n",
    "\n",
    "# Initialize list to store mass functions for each classifier\n",
    "mass_functions_list = []\n",
    "\n",
    "# List of probabilities from classifiers\n",
    "probs_list = [dt_probs, rf_probs, svm_probs, knn_probs, bp_probs, xgb_probs]\n",
    "\n",
    "# For each classifier, create mass functions for each instance\n",
    "for probs in probs_list:\n",
    "    mass_functions = []\n",
    "    for prob in probs:\n",
    "        mass = {}\n",
    "        for i, cls in enumerate(classes):\n",
    "            mass[cls] = prob[i]  # cls is now an integer\n",
    "        mass_functions.append(MassFunction(mass))\n",
    "    mass_functions_list.append(mass_functions)"
   ],
   "id": "e4dc3e8499d5140d",
   "outputs": [],
   "execution_count": 26
  },
  {
   "metadata": {},
   "cell_type": "markdown",
   "source": "### 3.3 Combine Mass Functions Using Dempster's Rule",
   "id": "8a8fd38630f0fb3e"
  },
  {
   "metadata": {
    "ExecuteTime": {
     "end_time": "2024-10-14T08:22:25.141606Z",
     "start_time": "2024-10-14T08:22:24.878201Z"
    }
   },
   "cell_type": "code",
   "source": [
    "# Initialize list to store fused predictions\n",
    "fused_predictions = []\n",
    "\n",
    "# Iteration through each instance\n",
    "for i in tqdm(range(len(X_test))):\n",
    "    # Get mass functions for each classifier\n",
    "    mass_functions = [mass_functions_list[j][i] for j in range(len(mass_functions_list))]\n",
    "    \n",
    "    # Combine mass functions using Dempster's rule\n",
    "    combined_mass = mass_functions[0]\n",
    "    for mf in mass_functions[1:]:\n",
    "        combined_mass = combined_mass.combine_conjunctive(mf)\n",
    "    \n",
    "    # Decide the class with the highest belief\n",
    "    predicted_hypothesis = combined_mass.max_belief()\n",
    "    # Ensure predicted_hypothesis is not empty\n",
    "    if predicted_hypothesis and len(predicted_hypothesis) > 0:\n",
    "        predicted_class = list(predicted_hypothesis)[0]\n",
    "        fused_predictions.append(predicted_class)  # Convert to integer\n",
    "    else:\n",
    "        # Handle the case when no hypothesis has mass\n",
    "        # Choose the class with the highest total mass from combined_mass\n",
    "        if combined_mass.mass:\n",
    "            # Get the hypothesis with the highest mass\n",
    "            predicted_class = max(combined_mass.mass.items(), key=lambda x: x[1])[0]\n",
    "            # Extract the class label\n",
    "            predicted_class = list(predicted_class)[0]\n",
    "            fused_predictions.append(predicted_class)\n",
    "        else:\n",
    "            # As a last resort, append the majority class from training data\n",
    "            majority_class = y_train_resampled.value_counts().idxmax()\n",
    "            fused_predictions.append(int(majority_class))"
   ],
   "id": "f1d8fb70edab9989",
   "outputs": [
    {
     "name": "stderr",
     "output_type": "stream",
     "text": [
      "100%|██████████| 5474/5474 [00:00<00:00, 23163.69it/s]\n"
     ]
    }
   ],
   "execution_count": 27
  },
  {
   "metadata": {},
   "cell_type": "markdown",
   "source": "## 4. Evaluation of the Model's Performance",
   "id": "5bef2776916e031"
  },
  {
   "metadata": {},
   "cell_type": "markdown",
   "source": "### 4.1 Evaluate Base Classifiers",
   "id": "67e28fbc486270cb"
  },
  {
   "metadata": {
    "ExecuteTime": {
     "end_time": "2024-10-14T08:22:46.795856Z",
     "start_time": "2024-10-14T08:22:25.205907Z"
    }
   },
   "cell_type": "code",
   "source": [
    "# Function to evaluate and print metrics\n",
    "def evaluate_model(model_name, y_true, y_pred):\n",
    "    print(f\"Performance {model_name}:\")\n",
    "    print(\"Accuracy:\", accuracy_score(y_true, y_pred))\n",
    "    print(\"Precision (macro):\", precision_score(y_true, y_pred, average='macro', zero_division=0))\n",
    "    print(\"Recall (macro):\", recall_score(y_true, y_pred, average='macro', zero_division=0))\n",
    "    print(\"F1-score (macro):\", f1_score(y_true, y_pred, average='macro', zero_division=0))\n",
    "    print(\"\\nClassification Report:\")\n",
    "    print(classification_report(y_true, y_pred, zero_division=0))\n",
    "    print(\"-\" * 60)\n",
    "\n",
    "# Predictions from base classifiers\n",
    "dt_pred = dt_model.predict(X_test)\n",
    "rf_pred = rf_model.predict(X_test)\n",
    "svm_pred = svm_model.predict(X_test)\n",
    "knn_pred = knn_model.predict(X_test_array)  # Use the corrected X_test_array\n",
    "bp_pred = bp_model.predict(X_test)\n",
    "xgb_pred = xgb_model.predict(X_test)\n",
    "\n",
    "# Evaluate each model\n",
    "evaluate_model(\"Decision Tree\", y_test, dt_pred)\n",
    "evaluate_model(\"Random Forest\", y_test, rf_pred)\n",
    "evaluate_model(\"SVM\", y_test, svm_pred)\n",
    "evaluate_model(\"KNN\", y_test, knn_pred)\n",
    "evaluate_model(\"BP Neural Network\", y_test, bp_pred)\n",
    "evaluate_model(\"XGBoost\", y_test, xgb_pred)"
   ],
   "id": "5de9ebd4c9d83798",
   "outputs": [
    {
     "name": "stdout",
     "output_type": "stream",
     "text": [
      "Performance Decision Tree:\n",
      "Accuracy: 0.8854585312385824\n",
      "Precision (macro): 0.667750537664523\n",
      "Recall (macro): 0.7634413508794873\n",
      "F1-score (macro): 0.6966788076794502\n",
      "\n",
      "Classification Report:\n",
      "              precision    recall  f1-score   support\n",
      "\n",
      "           0       0.31      0.59      0.41        22\n",
      "           1       0.91      0.94      0.92        63\n",
      "           2       0.97      0.91      0.94      5081\n",
      "           3       0.25      0.53      0.34       287\n",
      "           4       0.90      0.86      0.88        21\n",
      "\n",
      "    accuracy                           0.89      5474\n",
      "   macro avg       0.67      0.76      0.70      5474\n",
      "weighted avg       0.93      0.89      0.90      5474\n",
      "\n",
      "------------------------------------------------------------\n",
      "Performance Random Forest:\n",
      "Accuracy: 0.9364267446108878\n",
      "Precision (macro): 0.7227618694803261\n",
      "Recall (macro): 0.7406138481493342\n",
      "F1-score (macro): 0.7302054570688111\n",
      "\n",
      "Classification Report:\n",
      "              precision    recall  f1-score   support\n",
      "\n",
      "           0       0.42      0.50      0.46        22\n",
      "           1       0.88      0.97      0.92        63\n",
      "           2       0.97      0.97      0.97      5081\n",
      "           3       0.44      0.46      0.45       287\n",
      "           4       0.89      0.81      0.85        21\n",
      "\n",
      "    accuracy                           0.94      5474\n",
      "   macro avg       0.72      0.74      0.73      5474\n",
      "weighted avg       0.94      0.94      0.94      5474\n",
      "\n",
      "------------------------------------------------------------\n",
      "Performance SVM:\n",
      "Accuracy: 0.7014979905005481\n",
      "Precision (macro): 0.49090503601639623\n",
      "Recall (macro): 0.6803390417855594\n",
      "F1-score (macro): 0.5008813344788136\n",
      "\n",
      "Classification Report:\n",
      "              precision    recall  f1-score   support\n",
      "\n",
      "           0       0.03      0.50      0.06        22\n",
      "           1       0.86      0.81      0.84        63\n",
      "           2       0.98      0.71      0.82      5081\n",
      "           3       0.12      0.57      0.20       287\n",
      "           4       0.46      0.81      0.59        21\n",
      "\n",
      "    accuracy                           0.70      5474\n",
      "   macro avg       0.49      0.68      0.50      5474\n",
      "weighted avg       0.92      0.70      0.78      5474\n",
      "\n",
      "------------------------------------------------------------\n",
      "Performance KNN:\n",
      "Accuracy: 0.8516624040920716\n",
      "Precision (macro): 0.5631667208064487\n",
      "Recall (macro): 0.7073334447026969\n",
      "F1-score (macro): 0.6009512187478382\n",
      "\n",
      "Classification Report:\n",
      "              precision    recall  f1-score   support\n",
      "\n",
      "           0       0.10      0.41      0.16        22\n",
      "           1       0.83      0.92      0.87        63\n",
      "           2       0.97      0.87      0.92      5081\n",
      "           3       0.20      0.53      0.29       287\n",
      "           4       0.71      0.81      0.76        21\n",
      "\n",
      "    accuracy                           0.85      5474\n",
      "   macro avg       0.56      0.71      0.60      5474\n",
      "weighted avg       0.93      0.85      0.88      5474\n",
      "\n",
      "------------------------------------------------------------\n",
      "Performance BP Neural Network:\n",
      "Accuracy: 0.7705516989404457\n",
      "Precision (macro): 0.5264428650257894\n",
      "Recall (macro): 0.6905888253692843\n",
      "F1-score (macro): 0.5584622149869535\n",
      "\n",
      "Classification Report:\n",
      "              precision    recall  f1-score   support\n",
      "\n",
      "           0       0.08      0.36      0.13        22\n",
      "           1       0.85      0.97      0.90        63\n",
      "           2       0.97      0.78      0.87      5081\n",
      "           3       0.14      0.58      0.22       287\n",
      "           4       0.59      0.76      0.67        21\n",
      "\n",
      "    accuracy                           0.77      5474\n",
      "   macro avg       0.53      0.69      0.56      5474\n",
      "weighted avg       0.92      0.77      0.83      5474\n",
      "\n",
      "------------------------------------------------------------\n",
      "Performance XGBoost:\n",
      "Accuracy: 0.9135915235659481\n",
      "Precision (macro): 0.6083986029928037\n",
      "Recall (macro): 0.7222156694533459\n",
      "F1-score (macro): 0.6488610577734508\n",
      "\n",
      "Classification Report:\n",
      "              precision    recall  f1-score   support\n",
      "\n",
      "           0       0.20      0.50      0.29        22\n",
      "           1       0.83      0.90      0.86        63\n",
      "           2       0.97      0.94      0.96      5081\n",
      "           3       0.35      0.51      0.41       287\n",
      "           4       0.70      0.76      0.73        21\n",
      "\n",
      "    accuracy                           0.91      5474\n",
      "   macro avg       0.61      0.72      0.65      5474\n",
      "weighted avg       0.93      0.91      0.92      5474\n",
      "\n",
      "------------------------------------------------------------\n"
     ]
    }
   ],
   "execution_count": 28
  },
  {
   "metadata": {},
   "cell_type": "markdown",
   "source": "### 4.2 Evaluate the MIFCA Model",
   "id": "d08690f0f8cc65b4"
  },
  {
   "metadata": {
    "ExecuteTime": {
     "end_time": "2024-10-14T08:22:47.284642Z",
     "start_time": "2024-10-14T08:22:46.984780Z"
    }
   },
   "cell_type": "code",
   "source": [
    "# Function to extract labels from predictions\n",
    "def extract_label(pred):\n",
    "    if isinstance(pred, (frozenset, set)):\n",
    "        # Flatten any nested frozensets or sets\n",
    "        labels = list(pred)\n",
    "        while any(isinstance(lbl, (frozenset, set)) for lbl in labels):\n",
    "            new_labels = []\n",
    "            for lbl in labels:\n",
    "                if isinstance(lbl, (frozenset, set)):\n",
    "                    new_labels.extend(list(lbl))\n",
    "                else:\n",
    "                    new_labels.append(lbl)\n",
    "            labels = new_labels\n",
    "        # Now labels should be a list of integers\n",
    "        if len(labels) == 1:\n",
    "            return labels[0]\n",
    "        else:\n",
    "            # If multiple labels, choose the one with the highest mass or handle as needed\n",
    "            return labels[0]  # For simplicity, pick the first\n",
    "    else:\n",
    "        # Assume it's an integer or compatible type\n",
    "        return pred\n",
    "\n",
    "# Process fused_predictions to extract labels\n",
    "processed_predictions = []\n",
    "for pred in fused_predictions:\n",
    "    pred_label = extract_label(pred)\n",
    "    processed_predictions.append(pred_label)\n",
    "\n",
    "# Convert to numpy array\n",
    "fused_predictions_array = np.array(processed_predictions)\n",
    "\n",
    "# Ensure y_test and fused_predictions_array have the same data type\n",
    "if fused_predictions_array.dtype != y_test.dtype:\n",
    "    fused_predictions_array = fused_predictions_array.astype(y_test.dtype)\n",
    "\n",
    "# Evaluate the fused model\n",
    "evaluate_model(\"MIFCA Model\", y_test, fused_predictions_array)"
   ],
   "id": "b224e897f5e7a423",
   "outputs": [
    {
     "ename": "IndexError",
     "evalue": "list index out of range",
     "output_type": "error",
     "traceback": [
      "\u001B[1;31m---------------------------------------------------------------------------\u001B[0m",
      "\u001B[1;31mIndexError\u001B[0m                                Traceback (most recent call last)",
      "Cell \u001B[1;32mIn[29], line 27\u001B[0m\n\u001B[0;32m     25\u001B[0m processed_predictions \u001B[38;5;241m=\u001B[39m []\n\u001B[0;32m     26\u001B[0m \u001B[38;5;28;01mfor\u001B[39;00m pred \u001B[38;5;129;01min\u001B[39;00m fused_predictions:\n\u001B[1;32m---> 27\u001B[0m     pred_label \u001B[38;5;241m=\u001B[39m \u001B[43mextract_label\u001B[49m\u001B[43m(\u001B[49m\u001B[43mpred\u001B[49m\u001B[43m)\u001B[49m\n\u001B[0;32m     28\u001B[0m     processed_predictions\u001B[38;5;241m.\u001B[39mappend(pred_label)\n\u001B[0;32m     30\u001B[0m \u001B[38;5;66;03m# Convert to numpy array\u001B[39;00m\n",
      "Cell \u001B[1;32mIn[29], line 19\u001B[0m, in \u001B[0;36mextract_label\u001B[1;34m(pred)\u001B[0m\n\u001B[0;32m     16\u001B[0m         \u001B[38;5;28;01mreturn\u001B[39;00m labels[\u001B[38;5;241m0\u001B[39m]\n\u001B[0;32m     17\u001B[0m     \u001B[38;5;28;01melse\u001B[39;00m:\n\u001B[0;32m     18\u001B[0m         \u001B[38;5;66;03m# If multiple labels, choose the one with the highest mass or handle as needed\u001B[39;00m\n\u001B[1;32m---> 19\u001B[0m         \u001B[38;5;28;01mreturn\u001B[39;00m \u001B[43mlabels\u001B[49m\u001B[43m[\u001B[49m\u001B[38;5;241;43m0\u001B[39;49m\u001B[43m]\u001B[49m  \u001B[38;5;66;03m# For simplicity, pick the first\u001B[39;00m\n\u001B[0;32m     20\u001B[0m \u001B[38;5;28;01melse\u001B[39;00m:\n\u001B[0;32m     21\u001B[0m     \u001B[38;5;66;03m# Assume it's an integer or compatible type\u001B[39;00m\n\u001B[0;32m     22\u001B[0m     \u001B[38;5;28;01mreturn\u001B[39;00m pred\n",
      "\u001B[1;31mIndexError\u001B[0m: list index out of range"
     ]
    }
   ],
   "execution_count": 29
  },
  {
   "metadata": {},
   "cell_type": "markdown",
   "source": "### 4.3 Confusion Matrix Heat Maps",
   "id": "564b1dabc7cbd615"
  },
  {
   "metadata": {
    "ExecuteTime": {
     "end_time": "2024-10-14T08:22:47.293683300Z",
     "start_time": "2024-10-14T07:51:07.015200Z"
    }
   },
   "cell_type": "code",
   "source": [
    "import itertools\n",
    "\n",
    "# Function to plot confusion matrix\n",
    "def plot_confusion_matrix(cm, classes, title='Confusion matrix'):\n",
    "    plt.figure(figsize=(8,6))\n",
    "    plt.imshow(cm, interpolation='nearest', cmap=plt.cm.Blues)\n",
    "    plt.title(title)\n",
    "    plt.colorbar()\n",
    "    tick_marks = np.arange(len(classes))\n",
    "    class_names = [str(cls) for cls in classes]\n",
    "    plt.xticks(tick_marks, class_names, rotation=45)\n",
    "    plt.yticks(tick_marks, class_names)\n",
    "    \n",
    "    fmt = 'd'\n",
    "    thresh = cm.max() / 2.\n",
    "    for i, j in itertools.product(range(cm.shape[0]), range(cm.shape[1])):\n",
    "        plt.text(j, i, format(cm[i, j], fmt),\n",
    "                 horizontalalignment='center',\n",
    "                 color='white' if cm[i, j] > thresh else 'black')\n",
    "    \n",
    "    plt.ylabel('True label')\n",
    "    plt.xlabel('Predicted label')\n",
    "    plt.tight_layout()\n",
    "    plt.show()\n",
    "\n",
    "# Confusion matrix for MIFCA model\n",
    "cm = confusion_matrix(y_test, fused_predictions)\n",
    "plot_confusion_matrix(cm, classes=classes, title='Confusion Matrix for MIFCA Model')"
   ],
   "id": "1973bc74669589f7",
   "outputs": [
    {
     "ename": "NameError",
     "evalue": "name 'confusion_matrix' is not defined",
     "output_type": "error",
     "traceback": [
      "\u001B[1;31m---------------------------------------------------------------------------\u001B[0m",
      "\u001B[1;31mNameError\u001B[0m                                 Traceback (most recent call last)",
      "Cell \u001B[1;32mIn[1], line 27\u001B[0m\n\u001B[0;32m     24\u001B[0m     plt\u001B[38;5;241m.\u001B[39mshow()\n\u001B[0;32m     26\u001B[0m \u001B[38;5;66;03m# Confusion matrix for MIFCA model\u001B[39;00m\n\u001B[1;32m---> 27\u001B[0m cm \u001B[38;5;241m=\u001B[39m \u001B[43mconfusion_matrix\u001B[49m(y_test, fused_predictions)\n\u001B[0;32m     28\u001B[0m plot_confusion_matrix(cm, classes\u001B[38;5;241m=\u001B[39mclasses, title\u001B[38;5;241m=\u001B[39m\u001B[38;5;124m'\u001B[39m\u001B[38;5;124mConfusion Matrix for MIFCA Model\u001B[39m\u001B[38;5;124m'\u001B[39m)\n",
      "\u001B[1;31mNameError\u001B[0m: name 'confusion_matrix' is not defined"
     ]
    }
   ],
   "execution_count": 1
  },
  {
   "metadata": {},
   "cell_type": "markdown",
   "source": "## 5. Results and Analysis",
   "id": "13484557302d0ba2"
  },
  {
   "metadata": {},
   "cell_type": "markdown",
   "source": "### 5.1 Confusion Matrix for each models",
   "id": "c4b00f1c9b69f66c"
  },
  {
   "metadata": {},
   "cell_type": "code",
   "source": [
    "models = ['Decision Tree', 'Random Forest', 'SVM', 'KNN', 'BP Neural Network', 'XGBoost', 'MIFCA Model']\n",
    "predictions = [dt_pred, rf_pred, svm_pred, knn_pred, bp_pred, xgb_pred, fused_predictions]\n",
    "\n",
    "for model_name, y_pred in zip(models, predictions):\n",
    "    cm = confusion_matrix(y_test, y_pred)\n",
    "    plot_confusion_matrix(cm, classes=classes, title=f'Confusion Matrix for {model_name}')"
   ],
   "id": "e5a7f7f0492766bf",
   "outputs": [],
   "execution_count": null
  },
  {
   "metadata": {},
   "cell_type": "markdown",
   "source": "### 5.2 Visualization Feature Importance from Random Forest",
   "id": "4e1f05d9003926c3"
  },
  {
   "metadata": {},
   "cell_type": "code",
   "source": [
    "# Show 10 feature importance from Random Forest\n",
    "importances = rf_model.feature_importances_\n",
    "indices = np.argsort(importances)[::-1]\n",
    "feature_names = X.columns\n",
    "\n",
    "plt.figure(figsize=(12,6))\n",
    "plt.title(\"Feature Importances (Random Forest)\")\n",
    "plt.bar(range(10), importances[indices][:10], align='center')\n",
    "plt.xticks(range(10), [feature_names[i] for i in indices[:10]], rotation=45)\n",
    "plt.tight_layout()\n",
    "plt.show()"
   ],
   "id": "b38491f20d722ed3",
   "outputs": [],
   "execution_count": null
  },
  {
   "metadata": {},
   "cell_type": "markdown",
   "source": "### 5.3 Visualization Learning Curve",
   "id": "de62019bad70a4e4"
  },
  {
   "metadata": {},
   "cell_type": "code",
   "source": [
    "from sklearn.model_selection import learning_curve\n",
    "\n",
    "def plot_learning_curve(estimator, title, X, y, cv=None, n_jobs=None):\n",
    "    plt.figure(figsize=(8,6))\n",
    "    plt.title(title)\n",
    "    train_sizes, train_scores, test_scores = learning_curve(estimator, X, y, cv=cv, n_jobs=n_jobs)\n",
    "    train_scores_mean = np.mean(train_scores, axis=1)\n",
    "    test_scores_mean = np.mean(test_scores, axis=1)\n",
    "    plt.plot(train_sizes, train_scores_mean, 'o-', color=\"r\", label=\"Training score\")\n",
    "    plt.plot(train_sizes, test_scores_mean, 'o-', color=\"g\", label=\"Cross-validation score\")\n",
    "    plt.xlabel(\"Training examples\")\n",
    "    plt.ylabel(\"Score\")\n",
    "    plt.legend(loc=\"best\")\n",
    "    plt.show()\n",
    "\n",
    "# Plot learning curve for Random Forest\n",
    "plot_learning_curve(rf_model, \"Learning Curve (Random Forest)\", X_train_resampled, y_train_resampled, cv=5"
   ],
   "id": "24c17e1b7f5cb516",
   "outputs": [],
   "execution_count": null
  },
  {
   "metadata": {},
   "cell_type": "markdown",
   "source": "## 5. Conclusion",
   "id": "71d1e3d3c872d848"
  }
 ],
 "metadata": {
  "kernelspec": {
   "display_name": "Python 3",
   "language": "python",
   "name": "python3"
  },
  "language_info": {
   "codemirror_mode": {
    "name": "ipython",
    "version": 2
   },
   "file_extension": ".py",
   "mimetype": "text/x-python",
   "name": "python",
   "nbconvert_exporter": "python",
   "pygments_lexer": "ipython2",
   "version": "2.7.6"
  }
 },
 "nbformat": 4,
 "nbformat_minor": 5
}
